{
 "cells": [
  {
   "cell_type": "markdown",
   "id": "9ae88523-fa63-4709-ad7b-18188fe07939",
   "metadata": {},
   "source": [
    "## Chapter07\n",
    "\n",
    "### 리스트"
   ]
  },
  {
   "cell_type": "code",
   "execution_count": 21,
   "id": "b1c4dc15-2672-4c42-934e-69748f38a8cf",
   "metadata": {},
   "outputs": [
    {
     "name": "stdout",
     "output_type": "stream",
     "text": [
      "행복한 나라에 살고 싶어요\n"
     ]
    }
   ],
   "source": [
    "a = [\"2 햄버거\", \"3: 행복\", \"행복한 나라에 살고 싶어요\"]\n",
    "print(a[2])"
   ]
  },
  {
   "cell_type": "code",
   "execution_count": 3,
   "id": "8e3a1359-b83f-41e3-85f6-5b41b264a5d5",
   "metadata": {},
   "outputs": [],
   "source": [
    "b = [a, \"b\", 33]"
   ]
  },
  {
   "cell_type": "code",
   "execution_count": 4,
   "id": "23664b9b-7b10-4a4f-8194-fd0f4ce08882",
   "metadata": {},
   "outputs": [
    {
     "name": "stdout",
     "output_type": "stream",
     "text": [
      "[[1, '1', '111', '행복한 나라에 살고 싶어요'], 'b', 33]\n"
     ]
    }
   ],
   "source": [
    "print(b)"
   ]
  },
  {
   "cell_type": "code",
   "execution_count": 5,
   "id": "7c627f7c-6ac8-445f-b602-afd0565a853f",
   "metadata": {},
   "outputs": [
    {
     "name": "stdout",
     "output_type": "stream",
     "text": [
      "[1, '1', '111', '행복한 나라에 살고 싶어요', '으라차차']\n"
     ]
    }
   ],
   "source": [
    "a.append(\"으라차차\")\n",
    "print(a)"
   ]
  },
  {
   "cell_type": "code",
   "execution_count": 25,
   "id": "039cf378-58b6-4a91-8ec1-7231e486a4de",
   "metadata": {
    "collapsed": true,
    "jupyter": {
     "outputs_hidden": true
    },
    "tags": []
   },
   "outputs": [
    {
     "name": "stdout",
     "output_type": "stream",
     "text": [
      "2 햄버거\n",
      "3: 행복\n",
      "행복한 나라에 살고 싶어요\n",
      "\n",
      "\n",
      "2 햄버거\n",
      "3: 행복\n",
      "행복한 나라에 살고 싶어요\n",
      "\n",
      "\n",
      "2 햄버거\n",
      "3: 행복\n",
      "행복한 나라에 살고 싶어요\n"
     ]
    }
   ],
   "source": [
    "for i in a:\n",
    "    print(i)\n",
    "print(\"\\n\")    \n",
    "\n",
    "i = 0\n",
    "for i in range(0, len(a)):\n",
    "    print(a[i])\n",
    "print(\"\\n\")\n",
    "    \n",
    "for i in range(0, 3):\n",
    "    print(a[i])"
   ]
  },
  {
   "cell_type": "code",
   "execution_count": 26,
   "id": "e0ef7677-a0f8-432e-a61c-f495090c68a8",
   "metadata": {},
   "outputs": [
    {
     "name": "stdin",
     "output_type": "stream",
     "text": [
      "1번째 숫자: 1\n",
      "2번째 숫자: 2\n",
      "3번째 숫자: 3\n",
      "4번째 숫자: 4\n"
     ]
    },
    {
     "name": "stdout",
     "output_type": "stream",
     "text": [
      "Sum = 10\n"
     ]
    }
   ],
   "source": [
    "aa = [0, 0, 0, 0]\n",
    "hap = 0\n",
    "\n",
    "aa[0] = int(input(\"1번째 숫자:\"))\n",
    "aa[1] = int(input(\"2번째 숫자:\"))\n",
    "aa[2] = int(input(\"3번째 숫자:\"))\n",
    "aa[3] = int(input(\"4번째 숫자:\"))\n",
    "\n",
    "hap = aa[0] + aa[1] + aa[2] + aa[3]\n",
    "\n",
    "print(\"Sum = %d\" % hap)"
   ]
  },
  {
   "cell_type": "code",
   "execution_count": 29,
   "id": "0ea51751-141d-4cdb-9813-938b29c112de",
   "metadata": {},
   "outputs": [
    {
     "name": "stdin",
     "output_type": "stream",
     "text": [
      "1번째 숫자: 1\n",
      "2번째 숫자: 2\n",
      "3번째 숫자: 3\n",
      "4번째 숫자: 4\n"
     ]
    },
    {
     "name": "stdout",
     "output_type": "stream",
     "text": [
      "Sum = 10\n"
     ]
    }
   ],
   "source": [
    "aa = [0, 0, 0, 0]\n",
    "hap = 0\n",
    "\n",
    "for i in range(0, len(aa)):\n",
    "    aa[i] = int(input(f\"{i+1}번째 숫자:\")) #내가 한것\n",
    "    hap += aa[i]\n",
    "    \n",
    "print(\"Sum = %d\" % hap)"
   ]
  },
  {
   "cell_type": "code",
   "execution_count": 30,
   "id": "8639ef91-6819-4826-81e3-f387d2ed7ce7",
   "metadata": {},
   "outputs": [
    {
     "name": "stdin",
     "output_type": "stream",
     "text": [
      "1번째 숫자: 3\n",
      "2번째 숫자: 4\n",
      "3번째 숫자: 5\n",
      "4번째 숫자: 6\n"
     ]
    },
    {
     "name": "stdout",
     "output_type": "stream",
     "text": [
      "Sum = 18\n"
     ]
    }
   ],
   "source": [
    "aa = [0, 0, 0, 0]\n",
    "hap = 0\n",
    "\n",
    "for i in range(0, len(aa)):\n",
    "    aa[i] = int(input( str(i+1) + \"번째 숫자:\")) #강사님이 한 것 (str()이용해서 문자열의 합으로 출력)\n",
    "    hap += aa[i]\n",
    "    \n",
    "print(\"Sum = %d\" % hap)"
   ]
  },
  {
   "cell_type": "markdown",
   "id": "46987be9-ec62-4591-877b-fa8b22cf0ee7",
   "metadata": {},
   "source": [
    "### 192페이지 예제"
   ]
  },
  {
   "cell_type": "code",
   "execution_count": 36,
   "id": "7a985e86-d8a1-4e5f-91d2-92a5b8086595",
   "metadata": {},
   "outputs": [
    {
     "name": "stdout",
     "output_type": "stream",
     "text": [
      "bb[0]에는 198이, bb[99]에는 0이 입력됩니다.\n",
      "[0, 2, 4, 6, 8, 10, 12, 14, 16, 18, 20, 22, 24, 26, 28, 30, 32, 34, 36, 38, 40, 42, 44, 46, 48, 50, 52, 54, 56, 58, 60, 62, 64, 66, 68, 70, 72, 74, 76, 78, 80, 82, 84, 86, 88, 90, 92, 94, 96, 98, 100, 102, 104, 106, 108, 110, 112, 114, 116, 118, 120, 122, 124, 126, 128, 130, 132, 134, 136, 138, 140, 142, 144, 146, 148, 150, 152, 154, 156, 158, 160, 162, 164, 166, 168, 170, 172, 174, 176, 178, 180, 182, 184, 186, 188, 190, 192, 194, 196, 198]\n",
      "[198, 196, 194, 192, 190, 188, 186, 184, 182, 180, 178, 176, 174, 172, 170, 168, 166, 164, 162, 160, 158, 156, 154, 152, 150, 148, 146, 144, 142, 140, 138, 136, 134, 132, 130, 128, 126, 124, 122, 120, 118, 116, 114, 112, 110, 108, 106, 104, 102, 100, 98, 96, 94, 92, 90, 88, 86, 84, 82, 80, 78, 76, 74, 72, 70, 68, 66, 64, 62, 60, 58, 56, 54, 52, 50, 48, 46, 44, 42, 40, 38, 36, 34, 32, 30, 28, 26, 24, 22, 20, 18, 16, 14, 12, 10, 8, 6, 4, 2, 0]\n"
     ]
    }
   ],
   "source": [
    "aa = []\n",
    "bb = []\n",
    "value = 0\n",
    "\n",
    "for i in range(0, 100):\n",
    "    aa.append(value)\n",
    "    value +=2\n",
    "    \n",
    "for i in range(0, 100):\n",
    "    bb.append(aa[99-i])\n",
    "    \n",
    "print(\"bb[0]에는 %d이, bb[99]에는 %d이 입력됩니다.\" % (bb[0], bb[99]))\n",
    "print(aa)\n",
    "print(bb)"
   ]
  },
  {
   "cell_type": "markdown",
   "id": "86e79c0b-7300-4060-bb2c-424bae484bd6",
   "metadata": {},
   "source": [
    "### 리스트 인덱싱 List indexing"
   ]
  },
  {
   "cell_type": "code",
   "execution_count": 37,
   "id": "a974a303-0b83-4637-8a67-cd34e4e29d97",
   "metadata": {},
   "outputs": [
    {
     "name": "stdout",
     "output_type": "stream",
     "text": [
      "[10, 20, 30, 40, 50]\n"
     ]
    }
   ],
   "source": [
    "aa = [10, 20, 30, 40, 50]\n",
    "print(aa)"
   ]
  },
  {
   "cell_type": "code",
   "execution_count": 39,
   "id": "7412deea-4e27-4c4c-bd67-8d528435b0dc",
   "metadata": {},
   "outputs": [
    {
     "data": {
      "text/plain": [
       "(10, 20, 30, 40, 50)"
      ]
     },
     "execution_count": 39,
     "metadata": {},
     "output_type": "execute_result"
    }
   ],
   "source": [
    "aa[0], aa[1], aa[2], aa[3], aa[4]"
   ]
  },
  {
   "cell_type": "markdown",
   "id": "d0525df8-d687-4756-9ca6-ac44dfc90196",
   "metadata": {},
   "source": [
    "#### 인덱스 범위 `start:stop`\n"
   ]
  },
  {
   "cell_type": "code",
   "execution_count": 40,
   "id": "ffbc36f6-6adb-446e-b0c2-1f601ed0cae2",
   "metadata": {},
   "outputs": [
    {
     "data": {
      "text/plain": [
       "[10]"
      ]
     },
     "execution_count": 40,
     "metadata": {},
     "output_type": "execute_result"
    }
   ],
   "source": [
    "aa[0:1]   # 끝은 (stop - 1)"
   ]
  },
  {
   "cell_type": "code",
   "execution_count": 42,
   "id": "a705e5da-c387-4d17-8eed-abae7d0e26c5",
   "metadata": {},
   "outputs": [
    {
     "data": {
      "text/plain": [
       "[10, 20, 30, 40, 50]"
      ]
     },
     "execution_count": 42,
     "metadata": {},
     "output_type": "execute_result"
    }
   ],
   "source": [
    "aa[0:5]"
   ]
  },
  {
   "cell_type": "code",
   "execution_count": 43,
   "id": "e8ff16fe-c467-4047-90e0-99f2aef3b317",
   "metadata": {},
   "outputs": [
    {
     "data": {
      "text/plain": [
       "[10, 20, 30, 40]"
      ]
     },
     "execution_count": 43,
     "metadata": {},
     "output_type": "execute_result"
    }
   ],
   "source": [
    "aa[:4]"
   ]
  },
  {
   "cell_type": "code",
   "execution_count": 44,
   "id": "0ef69af3-4d3c-42b5-9095-62be9914c8dc",
   "metadata": {},
   "outputs": [
    {
     "data": {
      "text/plain": [
       "[10, 20, 30, 40, 50]"
      ]
     },
     "execution_count": 44,
     "metadata": {},
     "output_type": "execute_result"
    }
   ],
   "source": [
    "aa[:]"
   ]
  },
  {
   "cell_type": "code",
   "execution_count": 45,
   "id": "98dd74f2-567e-41c6-a6cb-eedeab9c9adb",
   "metadata": {},
   "outputs": [],
   "source": [
    "_ = aa[:]"
   ]
  },
  {
   "cell_type": "code",
   "execution_count": 46,
   "id": "a1135a55-d061-47e8-ac78-3e6106f58347",
   "metadata": {},
   "outputs": [
    {
     "name": "stdout",
     "output_type": "stream",
     "text": [
      "[10, 20, 30, 40, 50]\n"
     ]
    }
   ],
   "source": [
    "print(_)"
   ]
  },
  {
   "cell_type": "markdown",
   "id": "1c0bbabc-68f3-4f8b-9bd5-8fc2f5f534e4",
   "metadata": {},
   "source": [
    "### in, not in"
   ]
  },
  {
   "cell_type": "code",
   "execution_count": 48,
   "id": "8431c03e-a7c1-4ee3-b88b-b69a32b1e0be",
   "metadata": {},
   "outputs": [
    {
     "name": "stdout",
     "output_type": "stream",
     "text": [
      "False\n"
     ]
    }
   ],
   "source": [
    "print(11 in aa)"
   ]
  },
  {
   "cell_type": "code",
   "execution_count": 49,
   "id": "1b67b4b2-1284-48e8-8b85-968c811541bb",
   "metadata": {},
   "outputs": [
    {
     "data": {
      "text/plain": [
       "True"
      ]
     },
     "execution_count": 49,
     "metadata": {},
     "output_type": "execute_result"
    }
   ],
   "source": [
    "11 not in aa"
   ]
  },
  {
   "cell_type": "markdown",
   "id": "dbf29fc0-6243-4f1f-8835-e488c0fe24ef",
   "metadata": {},
   "source": [
    "### broadcasting"
   ]
  },
  {
   "cell_type": "code",
   "execution_count": 56,
   "id": "55d88e38-6dae-43cd-9eb9-69e780795d14",
   "metadata": {},
   "outputs": [
    {
     "data": {
      "text/plain": [
       "([10, 20, 30, 40, 50, 60, 70, 80], [50, 60, 70, 80])"
      ]
     },
     "execution_count": 56,
     "metadata": {},
     "output_type": "execute_result"
    }
   ],
   "source": [
    "a = [10, 20, 30, 40, 50, 60, 70, 80]\n",
    "b = [50, 60, 70, 80]\n",
    "a, b"
   ]
  },
  {
   "cell_type": "code",
   "execution_count": 54,
   "id": "77e45676-076f-4445-bc1c-61fe741483fe",
   "metadata": {},
   "outputs": [
    {
     "name": "stdout",
     "output_type": "stream",
     "text": [
      "[10, 20, 30, 40, 10, 20, 30, 40]\n"
     ]
    }
   ],
   "source": [
    "print(a*2)"
   ]
  },
  {
   "cell_type": "code",
   "execution_count": 57,
   "id": "3b74bdc7-15ee-42e2-a7f8-46262d6ca3fd",
   "metadata": {},
   "outputs": [
    {
     "data": {
      "text/plain": [
       "[10, 30, 50, 70]"
      ]
     },
     "execution_count": 57,
     "metadata": {},
     "output_type": "execute_result"
    }
   ],
   "source": [
    "a[::2]"
   ]
  },
  {
   "cell_type": "markdown",
   "id": "75189505-f19c-4e0a-9d77-b8feffa832d4",
   "metadata": {
    "tags": []
   },
   "source": [
    "#### 값의 변경\n",
    "- 불변형 자료: string, tuple\n",
    "- 가변형 자료: list, dict"
   ]
  },
  {
   "cell_type": "markdown",
   "id": "3e170623-0774-4e40-ac39-07a61d269211",
   "metadata": {},
   "source": [
    "### list() 함수"
   ]
  },
  {
   "cell_type": "code",
   "execution_count": 8,
   "id": "29119641-72d4-4881-8251-eebe69dd0dbc",
   "metadata": {},
   "outputs": [
    {
     "name": "stdout",
     "output_type": "stream",
     "text": [
      "1/2/3/4/5/6/7/8/9/10/11/12/13/14/15/16/17/18/19/20/21/22/23/24/25/26/27/28/29/30/31/32/33/34/35/36/37/38/39/40/41/42/43/44/45/46/47/48/49/50/51/52/53/54/55/56/57/58/59/60/61/62/63/64/65/66/67/68/69/70/71/72/73/74/75/76/77/78/79/80/81/82/83/84/85/86/87/88/89/90/91/92/93/94/95/96/97/98/99/"
     ]
    }
   ],
   "source": [
    "for i in range(1, 100):\n",
    "    print(i, end=\"/\")"
   ]
  },
  {
   "cell_type": "code",
   "execution_count": 6,
   "id": "c2ead3f4-59c9-4667-b42d-90dc66f7257b",
   "metadata": {},
   "outputs": [
    {
     "name": "stdout",
     "output_type": "stream",
     "text": [
      "[1, 2, 3, 4, 5, 6, 7, 8, 9, 10, 11, 12, 13, 14, 15, 16, 17, 18, 19, 20, 21, 22, 23, 24, 25, 26, 27, 28, 29, 30, 31, 32, 33, 34, 35, 36, 37, 38, 39, 40, 41, 42, 43, 44, 45, 46, 47, 48, 49, 50, 51, 52, 53, 54, 55, 56, 57, 58, 59, 60, 61, 62, 63, 64, 65, 66, 67, 68, 69, 70, 71, 72, 73, 74, 75, 76, 77, 78, 79, 80, 81, 82, 83, 84, 85, 86, 87, 88, 89, 90, 91, 92, 93, 94, 95, 96, 97, 98, 99]\n"
     ]
    },
    {
     "data": {
      "text/plain": [
       "[1, 2, 3, 4, 5]"
      ]
     },
     "execution_count": 6,
     "metadata": {},
     "output_type": "execute_result"
    }
   ],
   "source": [
    "nums = list(range(1, 100))\n",
    "print(nums)\n",
    "nums[:5]"
   ]
  },
  {
   "cell_type": "code",
   "execution_count": 9,
   "id": "9e0901bd-3a12-435b-8c3b-4cc22b49e354",
   "metadata": {},
   "outputs": [
    {
     "data": {
      "text/plain": [
       "\u001b[1;31mInit signature:\u001b[0m \u001b[0mlist\u001b[0m\u001b[1;33m(\u001b[0m\u001b[0miterable\u001b[0m\u001b[1;33m=\u001b[0m\u001b[1;33m(\u001b[0m\u001b[1;33m)\u001b[0m\u001b[1;33m,\u001b[0m \u001b[1;33m/\u001b[0m\u001b[1;33m)\u001b[0m\u001b[1;33m\u001b[0m\u001b[1;33m\u001b[0m\u001b[0m\n",
       "\u001b[1;31mDocstring:\u001b[0m     \n",
       "Built-in mutable sequence.\n",
       "\n",
       "If no argument is given, the constructor creates a new empty list.\n",
       "The argument must be an iterable if specified.\n",
       "\u001b[1;31mType:\u001b[0m           type\n",
       "\u001b[1;31mSubclasses:\u001b[0m     _HashedSeq, StackSummary, DeferredConfigList, SList, _ImmutableLineList, FormattedText, NodeList, _ExplodedList, Stack, _Accumulator, ...\n"
      ]
     },
     "metadata": {},
     "output_type": "display_data"
    }
   ],
   "source": [
    "list?"
   ]
  },
  {
   "cell_type": "markdown",
   "id": "69463403-f8fa-4f3d-8d49-568bb1bf4065",
   "metadata": {},
   "source": [
    "## list 값의 변경"
   ]
  },
  {
   "cell_type": "code",
   "execution_count": 19,
   "id": "882764bc-ff10-4862-912c-d8d0e7f1e4ef",
   "metadata": {},
   "outputs": [
    {
     "name": "stdout",
     "output_type": "stream",
     "text": [
      "[1, 2, 3, 4, 5, 6, 7, 8, 9]\n",
      "9\n"
     ]
    }
   ],
   "source": [
    "a = []\n",
    "a = list( range(1, 10))\n",
    "print(a)\n",
    "print(len(a))"
   ]
  },
  {
   "cell_type": "code",
   "execution_count": 20,
   "id": "b2955b41-0de1-42cb-8b1d-d4f7f3b17732",
   "metadata": {},
   "outputs": [
    {
     "name": "stdout",
     "output_type": "stream",
     "text": [
      "[1, 2, 300, 4, 5, 6, 7, 8, 9]\n"
     ]
    }
   ],
   "source": [
    "a[2] = 300\n",
    "print(a)"
   ]
  },
  {
   "cell_type": "code",
   "execution_count": 21,
   "id": "2dc338b9-e801-47ee-9b03-d8cea744e2a2",
   "metadata": {},
   "outputs": [
    {
     "data": {
      "text/plain": [
       "[2]"
      ]
     },
     "execution_count": 21,
     "metadata": {},
     "output_type": "execute_result"
    }
   ],
   "source": [
    "a[1:2]"
   ]
  },
  {
   "cell_type": "code",
   "execution_count": 22,
   "id": "5815666c-89c4-4b3c-b059-69ca90fbe7f4",
   "metadata": {},
   "outputs": [],
   "source": [
    "a[1:2] = [200, 201]"
   ]
  },
  {
   "cell_type": "code",
   "execution_count": 23,
   "id": "0ad78d0b-4e9b-4442-955f-d2ff1c038e2d",
   "metadata": {},
   "outputs": [
    {
     "name": "stdout",
     "output_type": "stream",
     "text": [
      "[200]\n",
      "[200, 201]\n"
     ]
    }
   ],
   "source": [
    "print(a[1:2])\n",
    "print(a[1:3])"
   ]
  },
  {
   "cell_type": "code",
   "execution_count": 24,
   "id": "875dd918-d692-4bd1-aadf-f33ccb696d0e",
   "metadata": {},
   "outputs": [
    {
     "name": "stdout",
     "output_type": "stream",
     "text": [
      "10\n",
      "[1, 200, 201, 300, 4, 5, 6, 7, 8, 9]\n"
     ]
    }
   ],
   "source": [
    "print(len(a))\n",
    "print(a)"
   ]
  },
  {
   "cell_type": "code",
   "execution_count": 25,
   "id": "1c9d6a0d-128a-424c-999a-e11dcf00e3bc",
   "metadata": {},
   "outputs": [
    {
     "name": "stdout",
     "output_type": "stream",
     "text": [
      "[1, 200, 201, 300, 4, 5, 6, 7]\n"
     ]
    }
   ],
   "source": [
    "print(a[:-2])"
   ]
  },
  {
   "cell_type": "code",
   "execution_count": 26,
   "id": "09e304c9-ede9-433f-bc64-4f60039fc1aa",
   "metadata": {},
   "outputs": [],
   "source": [
    "a[0] = [100, 101]"
   ]
  },
  {
   "cell_type": "code",
   "execution_count": 27,
   "id": "beb84d4b-7c60-4201-a391-c21503ac0172",
   "metadata": {},
   "outputs": [
    {
     "name": "stdout",
     "output_type": "stream",
     "text": [
      "[[100, 101], 200, 201, 300, 4, 5, 6, 7, 8, 9]\n"
     ]
    }
   ],
   "source": [
    "print(a)"
   ]
  },
  {
   "cell_type": "markdown",
   "id": "5e1cd795-5519-4a93-84e8-9b490657900f",
   "metadata": {},
   "source": [
    "#### 삭제\n",
    "- del(a[1:3]) --> 범위로도 가능"
   ]
  },
  {
   "cell_type": "code",
   "execution_count": 28,
   "id": "78573978-e1e9-4b23-8586-eee1840dbf10",
   "metadata": {},
   "outputs": [],
   "source": [
    "del(a[0])"
   ]
  },
  {
   "cell_type": "code",
   "execution_count": 29,
   "id": "4c278087-b31c-45b0-8bc3-b10f59698737",
   "metadata": {},
   "outputs": [
    {
     "name": "stdout",
     "output_type": "stream",
     "text": [
      "[200, 201, 300, 4, 5, 6, 7, 8, 9]\n"
     ]
    }
   ],
   "source": [
    "print(a)"
   ]
  },
  {
   "cell_type": "code",
   "execution_count": 30,
   "id": "e7c4a7c0-3064-4934-b1d1-9b537a8cee5c",
   "metadata": {},
   "outputs": [
    {
     "name": "stdout",
     "output_type": "stream",
     "text": [
      "[[], [], [], 4, 5, 6, 7, 8, 9]\n"
     ]
    }
   ],
   "source": [
    "a[0:3] = [[], [], []]\n",
    "print(a)"
   ]
  },
  {
   "cell_type": "markdown",
   "id": "44789950-1be7-4589-9b28-891d024f9bae",
   "metadata": {},
   "source": [
    "## 집계 함수\n",
    "- sum(), mean(), max(), min(), count()\n",
    "- len()"
   ]
  },
  {
   "cell_type": "code",
   "execution_count": 32,
   "id": "2308d9e9-56e4-4dd0-8144-e5390b4ce0fe",
   "metadata": {},
   "outputs": [
    {
     "data": {
      "text/plain": [
       "5"
      ]
     },
     "execution_count": 32,
     "metadata": {},
     "output_type": "execute_result"
    }
   ],
   "source": [
    "a = [13, 45, -10, 300, -168]\n",
    "len(a)"
   ]
  },
  {
   "cell_type": "code",
   "execution_count": 37,
   "id": "cec2ff50-bdc4-41d8-bade-550962f103ef",
   "metadata": {},
   "outputs": [
    {
     "name": "stdout",
     "output_type": "stream",
     "text": [
      "180\n"
     ]
    }
   ],
   "source": [
    "# for 써서 합계 출력\n",
    "\n",
    "hap = 0\n",
    "\n",
    "for i in a:\n",
    "    hap += i\n",
    "    \n",
    "print(hap)"
   ]
  },
  {
   "cell_type": "code",
   "execution_count": 40,
   "id": "0f73a28a-29c6-4d09-9335-b12d0cb32ca5",
   "metadata": {},
   "outputs": [
    {
     "data": {
      "text/plain": [
       "180"
      ]
     },
     "execution_count": 40,
     "metadata": {},
     "output_type": "execute_result"
    }
   ],
   "source": [
    "sum(a)"
   ]
  },
  {
   "cell_type": "code",
   "execution_count": 42,
   "id": "5d8e0ed3-1276-4174-a51c-714547945cea",
   "metadata": {},
   "outputs": [
    {
     "data": {
      "text/plain": [
       "-168"
      ]
     },
     "execution_count": 42,
     "metadata": {},
     "output_type": "execute_result"
    }
   ],
   "source": [
    "min(a)"
   ]
  },
  {
   "cell_type": "code",
   "execution_count": 41,
   "id": "5879baa1-5e58-45de-aaed-a4d1b9269340",
   "metadata": {},
   "outputs": [
    {
     "data": {
      "text/plain": [
       "300"
      ]
     },
     "execution_count": 41,
     "metadata": {},
     "output_type": "execute_result"
    }
   ],
   "source": [
    "max(a)"
   ]
  },
  {
   "cell_type": "markdown",
   "id": "33e619c0-40d4-4a19-ba33-2b5ecb27ff78",
   "metadata": {},
   "source": [
    "##### 리스트 a에 300이라는 숫자가 몇개 있는가?"
   ]
  },
  {
   "cell_type": "code",
   "execution_count": 46,
   "id": "1b2bf413-c5d0-4178-ad62-4a5c426fb96a",
   "metadata": {},
   "outputs": [
    {
     "name": "stdout",
     "output_type": "stream",
     "text": [
      "1\n"
     ]
    }
   ],
   "source": [
    "print(a.count(300))"
   ]
  },
  {
   "cell_type": "markdown",
   "id": "8e187171-b5ea-414e-bd20-13e8598b8a1d",
   "metadata": {},
   "source": [
    "#### 197페이지 실습"
   ]
  },
  {
   "cell_type": "code",
   "execution_count": 47,
   "id": "7df49db3-559a-4e66-bf3e-5be5bc272c39",
   "metadata": {},
   "outputs": [],
   "source": [
    "mylist = [30, 10, 20]"
   ]
  },
  {
   "cell_type": "code",
   "execution_count": 48,
   "id": "6a88a6b1-36e2-42b3-9d46-07e1ca000a51",
   "metadata": {},
   "outputs": [],
   "source": [
    "mylist.append(40)"
   ]
  },
  {
   "cell_type": "code",
   "execution_count": 49,
   "id": "13cae9d2-6556-4502-8e49-4c0bad77c3fc",
   "metadata": {},
   "outputs": [
    {
     "name": "stdout",
     "output_type": "stream",
     "text": [
      "[30, 10, 20, 40]\n"
     ]
    }
   ],
   "source": [
    "print(mylist)"
   ]
  },
  {
   "cell_type": "code",
   "execution_count": 50,
   "id": "c0737e4d-7743-40b6-b368-bd7d5e1c392c",
   "metadata": {},
   "outputs": [
    {
     "data": {
      "text/plain": [
       "40"
      ]
     },
     "execution_count": 50,
     "metadata": {},
     "output_type": "execute_result"
    }
   ],
   "source": [
    "mylist.pop()"
   ]
  },
  {
   "cell_type": "code",
   "execution_count": 51,
   "id": "7f7e773a-564e-45f4-923d-bf8d7f7f4884",
   "metadata": {},
   "outputs": [
    {
     "name": "stdout",
     "output_type": "stream",
     "text": [
      "[30, 10, 20]\n"
     ]
    }
   ],
   "source": [
    "print(mylist)"
   ]
  },
  {
   "cell_type": "code",
   "execution_count": 52,
   "id": "1c372950-900b-44e4-899a-70c3d9fb1358",
   "metadata": {},
   "outputs": [
    {
     "name": "stdout",
     "output_type": "stream",
     "text": [
      "[20, 10, 30]\n"
     ]
    }
   ],
   "source": [
    "mylist.reverse()\n",
    "print(mylist)"
   ]
  },
  {
   "cell_type": "markdown",
   "id": "89d8ec69-b9a0-4696-acd5-076f27bda690",
   "metadata": {},
   "source": [
    "##### 2번 인덱스에 111 저장(기존 2번 이후 인덱스는 +1번씩 (옆으로 밀림))"
   ]
  },
  {
   "cell_type": "code",
   "execution_count": 53,
   "id": "e8c63a96-ffde-4495-812b-8f7033c425c5",
   "metadata": {
    "tags": []
   },
   "outputs": [
    {
     "name": "stdout",
     "output_type": "stream",
     "text": [
      "[20, 10, 111, 30]\n"
     ]
    }
   ],
   "source": [
    "mylist.insert(2, 111) \n",
    "print(mylist)"
   ]
  },
  {
   "cell_type": "code",
   "execution_count": 54,
   "id": "c9dc2fa2-48ee-46af-b54e-01c43870afb5",
   "metadata": {},
   "outputs": [
    {
     "name": "stdout",
     "output_type": "stream",
     "text": [
      "[20, 10, 111, 30, 44, 55, 66]\n"
     ]
    }
   ],
   "source": [
    "mylist.extend([44, 55, 66])\n",
    "print(mylist)"
   ]
  },
  {
   "cell_type": "markdown",
   "id": "d418167a-84d1-4259-8c4a-22f8d28f9162",
   "metadata": {},
   "source": [
    "#### sorted vs list.sort()"
   ]
  },
  {
   "cell_type": "code",
   "execution_count": 55,
   "id": "21dd558d-b5af-49bd-9f40-0a5e497c5c44",
   "metadata": {},
   "outputs": [],
   "source": [
    "mylist = [30, 10, 20]"
   ]
  },
  {
   "cell_type": "code",
   "execution_count": 56,
   "id": "08263cd0-20fb-4e36-bc27-ca166f4536f8",
   "metadata": {},
   "outputs": [
    {
     "data": {
      "text/plain": [
       "[10, 20, 30]"
      ]
     },
     "execution_count": 56,
     "metadata": {},
     "output_type": "execute_result"
    }
   ],
   "source": [
    "sorted(mylist)"
   ]
  },
  {
   "cell_type": "code",
   "execution_count": 57,
   "id": "6cd83d93-0ecf-4f85-9d24-ed578a18c984",
   "metadata": {},
   "outputs": [
    {
     "name": "stdout",
     "output_type": "stream",
     "text": [
      "[30, 10, 20]\n"
     ]
    }
   ],
   "source": [
    "print(mylist)"
   ]
  },
  {
   "cell_type": "code",
   "execution_count": 58,
   "id": "91c1880e-a412-4656-8650-457bfa0b9509",
   "metadata": {},
   "outputs": [
    {
     "name": "stdout",
     "output_type": "stream",
     "text": [
      "[10, 20, 30]\n"
     ]
    }
   ],
   "source": [
    "mylist.sort()\n",
    "print(mylist)"
   ]
  },
  {
   "cell_type": "markdown",
   "id": "13bcb9ac-893c-4043-8e6a-581cb52f2d1d",
   "metadata": {},
   "source": [
    "## 2차원 리스트"
   ]
  },
  {
   "cell_type": "code",
   "execution_count": 67,
   "id": "70c0a83f-918d-4516-8627-8f4b59bca771",
   "metadata": {},
   "outputs": [
    {
     "name": "stdout",
     "output_type": "stream",
     "text": [
      "[1, 2, 3, 4]\n",
      "[5, 6, 7, 8]\n",
      "[9, 10, 11, 12]\n",
      "[[1, 2, 3, 4], [5, 6, 7, 8], [9, 10, 11, 12]]\n"
     ]
    }
   ],
   "source": [
    "a = [[1, 2, 3, 4],\n",
    "     [5, 6, 7, 8],\n",
    "     [9, 10, 11, 12]]\n",
    "print(a[0])\n",
    "print(a[1])\n",
    "print(a[2])\n",
    "print(a)"
   ]
  },
  {
   "cell_type": "markdown",
   "id": "5dea5117-583a-4101-bbc7-83f70b4f59b2",
   "metadata": {},
   "source": [
    "### 200페이지 예제"
   ]
  },
  {
   "cell_type": "code",
   "execution_count": 80,
   "id": "71e13b50-6f51-4fcc-bb1a-da12aeea0cda",
   "metadata": {},
   "outputs": [
    {
     "name": "stdout",
     "output_type": "stream",
     "text": [
      "  1   2   3   4 \n",
      "  5   6   7   8 \n",
      "  9  10  11  12 \n",
      "[[1, 2, 3, 4], [5, 6, 7, 8], [9, 10, 11, 12]]\n"
     ]
    }
   ],
   "source": [
    "list1, list2 = [], []\n",
    "value = 1\n",
    "for i in range(0, 3) : \n",
    "    for k in range(0, 4) :\n",
    "        list1.append(value)\n",
    "        value += 1\n",
    "    list2.append(list1)\n",
    "    list1 = []\n",
    "\n",
    "for i in range(0, 3) : \n",
    "    for k in range(0, 4) :\n",
    "        print(\"%3d\" % list2[i][k], end = \" \")\n",
    "    print(\"\")\n",
    "\n",
    "print(list2)"
   ]
  },
  {
   "cell_type": "markdown",
   "id": "1a22394b-006d-4358-b5df-c8d496f9148a",
   "metadata": {},
   "source": [
    "### 201페이지 연습문제"
   ]
  },
  {
   "cell_type": "code",
   "execution_count": 79,
   "id": "ae77cf86-299b-42ff-b27c-bcb70b714dd5",
   "metadata": {},
   "outputs": [
    {
     "name": "stdout",
     "output_type": "stream",
     "text": [
      "  0   3   6   9  12 \n",
      " 15  18  21  24  27 \n",
      " 30  33  36  39  42 \n",
      " 45  48  51  54  57 \n"
     ]
    }
   ],
   "source": [
    "list1, list2 = [], []\n",
    "value = 0\n",
    "for i in range(0, 4) : \n",
    "    for k in range(0, 5) :\n",
    "        list1.append(value)\n",
    "        value += 3\n",
    "    list2.append(list1)\n",
    "    list1 = []\n",
    "\n",
    "for i in range(0, 4) : \n",
    "    for k in range(0, 5) :\n",
    "        print(\"%3d\" % list2[i][k], end = \" \")\n",
    "    print(\"\")"
   ]
  },
  {
   "cell_type": "code",
   "execution_count": null,
   "id": "fd37ddf7-6b51-4095-9659-fb442a567e0b",
   "metadata": {},
   "outputs": [],
   "source": []
  }
 ],
 "metadata": {
  "kernelspec": {
   "display_name": "Python 3 (ipykernel)",
   "language": "python",
   "name": "python3"
  },
  "language_info": {
   "codemirror_mode": {
    "name": "ipython",
    "version": 3
   },
   "file_extension": ".py",
   "mimetype": "text/x-python",
   "name": "python",
   "nbconvert_exporter": "python",
   "pygments_lexer": "ipython3",
   "version": "3.9.7"
  }
 },
 "nbformat": 4,
 "nbformat_minor": 5
}
