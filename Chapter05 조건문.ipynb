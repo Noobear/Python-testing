{
 "cells": [
  {
   "cell_type": "markdown",
   "id": "2202a570-a777-4523-bd77-4b0e0d23530f",
   "metadata": {},
   "source": [
    "쉘 나누기 : Shift + Ctrl + \"-\""
   ]
  },
  {
   "cell_type": "markdown",
   "id": "e27bbb83-17af-42e5-97bf-7a412091ace4",
   "metadata": {
    "tags": []
   },
   "source": [
    "## chapter05 조건문"
   ]
  },
  {
   "cell_type": "markdown",
   "id": "2cebe768-ee7c-4a23-a9b1-d40cfa616c79",
   "metadata": {},
   "source": [
    "콜론 : 으로 시작해서\n",
    "들여쓰기 필요함 (tab)\n",
    "- if, for, while, 함수, def, 클래스(class)"
   ]
  },
  {
   "cell_type": "code",
   "execution_count": 2,
   "id": "5e0f5402-c453-4dfc-b6a5-cbab2548b737",
   "metadata": {},
   "outputs": [
    {
     "name": "stdin",
     "output_type": "stream",
     "text": [
      "숫자 하나를 입력하세요(정수): 143\n"
     ]
    },
    {
     "name": "stdout",
     "output_type": "stream",
     "text": [
      "프로그램 끝~~\n"
     ]
    }
   ],
   "source": [
    "a = int(input(\"숫자 하나를 입력하세요(정수):\"))\n",
    "\n",
    "if a < 100:\n",
    "    print(\"더 큰 숫자를 넣어주세요\")\n",
    "if a > 150:\n",
    "    print(\"더 작은 숫자를 넣어주세요\")\n",
    "else:\n",
    "    print(\"프로그램 끝~~\")\n"
   ]
  },
  {
   "cell_type": "code",
   "execution_count": 3,
   "id": "7b4af43f-2f4d-4f25-9dae-44b9434100d7",
   "metadata": {},
   "outputs": [
    {
     "name": "stdin",
     "output_type": "stream",
     "text": [
      "자연수를 입력하세요: 111\n"
     ]
    },
    {
     "name": "stdout",
     "output_type": "stream",
     "text": [
      "홀수입니다.\n"
     ]
    }
   ],
   "source": [
    "a = int(input(\"자연수를 입력하세요:\"))\n",
    "\n",
    "if a % 2 == 0:\n",
    "    print(\"짝수입니다\")\n",
    "if a % 2 != 0:\n",
    "    print(\"홀수입니다.\")\n"
   ]
  },
  {
   "cell_type": "code",
   "execution_count": null,
   "id": "8af17258-97b9-4927-ba37-56bbf331ddff",
   "metadata": {},
   "outputs": [],
   "source": [
    "a = int(input(\"숫자 하나를 입력하세요(정수):\"))\n",
    "\n",
    "if a > 50:\n",
    "    if a < 100:\n",
    "        print(\"50보다 크고 100보다 작음\")\n",
    "    else:\n",
    "        print(\"100보다 큼\")\n",
    "else:\n",
    "    print(\"50보다 작은 숫자임\")"
   ]
  },
  {
   "cell_type": "code",
   "execution_count": 4,
   "id": "13cdf98e-6853-4d7a-a0a6-7d97705f863d",
   "metadata": {},
   "outputs": [
    {
     "name": "stdin",
     "output_type": "stream",
     "text": [
      "Type your Score: 222\n"
     ]
    },
    {
     "name": "stdout",
     "output_type": "stream",
     "text": [
      "Grade: A\n"
     ]
    }
   ],
   "source": [
    "score = int(input(\"Type your Score:\"))\n",
    "\n",
    "if score >= 90:\n",
    "    print(\"Grade: A\")\n",
    "elif score >= 80:\n",
    "    print(\"Grade: B\")\n",
    "elif score >= 70:\n",
    "    print(\"Grade: C\")\n",
    "elif score >= 60:\n",
    "    print(\"Grade: D\")\n",
    "elif score >= 50:\n",
    "    print(\"Grade: E\")\n",
    "else:\n",
    "    print(\"Grade: F\")\n",
    "  "
   ]
  },
  {
   "cell_type": "code",
   "execution_count": null,
   "id": "37667970-5210-442d-adde-67a62916196a",
   "metadata": {},
   "outputs": [],
   "source": [
    "res = ''\n",
    "GO = 55\n",
    "res = '합격' if GO >= 50 else '불합격'\n",
    "print(res)"
   ]
  },
  {
   "cell_type": "markdown",
   "id": "eb53227a-963c-44df-b42e-33a113f2241a",
   "metadata": {},
   "source": [
    "### 내장함수 eval"
   ]
  },
  {
   "cell_type": "code",
   "execution_count": 1,
   "id": "ae8c1b4c-ede2-44d2-b807-3a2a85382491",
   "metadata": {},
   "outputs": [
    {
     "data": {
      "text/plain": [
       "\u001b[1;31mSignature:\u001b[0m \u001b[0meval\u001b[0m\u001b[1;33m(\u001b[0m\u001b[0msource\u001b[0m\u001b[1;33m,\u001b[0m \u001b[0mglobals\u001b[0m\u001b[1;33m=\u001b[0m\u001b[1;32mNone\u001b[0m\u001b[1;33m,\u001b[0m \u001b[0mlocals\u001b[0m\u001b[1;33m=\u001b[0m\u001b[1;32mNone\u001b[0m\u001b[1;33m,\u001b[0m \u001b[1;33m/\u001b[0m\u001b[1;33m)\u001b[0m\u001b[1;33m\u001b[0m\u001b[1;33m\u001b[0m\u001b[0m\n",
       "\u001b[1;31mDocstring:\u001b[0m\n",
       "Evaluate the given source in the context of globals and locals.\n",
       "\n",
       "The source may be a string representing a Python expression\n",
       "or a code object as returned by compile().\n",
       "The globals must be a dictionary and locals can be any mapping,\n",
       "defaulting to the current globals and locals.\n",
       "If only globals is given, locals defaults to it.\n",
       "\u001b[1;31mType:\u001b[0m      builtin_function_or_method\n"
      ]
     },
     "metadata": {},
     "output_type": "display_data"
    }
   ],
   "source": [
    "eval?"
   ]
  },
  {
   "cell_type": "code",
   "execution_count": 2,
   "id": "58d3caf7-fcaf-4cd5-bc2d-b3d62304606d",
   "metadata": {},
   "outputs": [
    {
     "data": {
      "text/plain": [
       "1.5"
      ]
     },
     "execution_count": 2,
     "metadata": {},
     "output_type": "execute_result"
    }
   ],
   "source": [
    "eval(\"(1+2+3+4+5)/10\")"
   ]
  },
  {
   "cell_type": "code",
   "execution_count": null,
   "id": "6840991e-fd38-4531-9637-cb684ae83c46",
   "metadata": {},
   "outputs": [],
   "source": []
  }
 ],
 "metadata": {
  "kernelspec": {
   "display_name": "Python 3 (ipykernel)",
   "language": "python",
   "name": "python3"
  },
  "language_info": {
   "codemirror_mode": {
    "name": "ipython",
    "version": 3
   },
   "file_extension": ".py",
   "mimetype": "text/x-python",
   "name": "python",
   "nbconvert_exporter": "python",
   "pygments_lexer": "ipython3",
   "version": "3.9.7"
  }
 },
 "nbformat": 4,
 "nbformat_minor": 5
}
