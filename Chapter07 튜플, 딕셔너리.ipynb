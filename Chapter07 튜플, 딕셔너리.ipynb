{
 "cells": [
  {
   "cell_type": "markdown",
   "id": "1514c68b-634a-489c-a582-cf8c99f8a097",
   "metadata": {},
   "source": [
    "## Chapter07\n",
    "\n",
    "### 튜플"
   ]
  },
  {
   "cell_type": "code",
   "execution_count": 1,
   "id": "289bfc75-702d-451c-a696-c1e6465782ba",
   "metadata": {},
   "outputs": [
    {
     "name": "stdout",
     "output_type": "stream",
     "text": [
      "(1, 2, 3)\n"
     ]
    }
   ],
   "source": [
    "tt1 = (1, 2, 3)\n",
    "print(tt1)"
   ]
  },
  {
   "cell_type": "code",
   "execution_count": 2,
   "id": "144ff79f-c4f2-488b-9dbc-1a42627c7c55",
   "metadata": {},
   "outputs": [
    {
     "data": {
      "text/plain": [
       "tuple"
      ]
     },
     "execution_count": 2,
     "metadata": {},
     "output_type": "execute_result"
    }
   ],
   "source": [
    "type(tt1)"
   ]
  },
  {
   "cell_type": "code",
   "execution_count": 3,
   "id": "88c46d6b-9103-4a0c-9d01-d1d884176e0b",
   "metadata": {},
   "outputs": [
    {
     "name": "stdout",
     "output_type": "stream",
     "text": [
      "()\n"
     ]
    }
   ],
   "source": [
    "tt1 = ()\n",
    "print(tt2)"
   ]
  },
  {
   "cell_type": "code",
   "execution_count": 6,
   "id": "19bd2ea2-a06e-4f16-9665-e77e93a31a4a",
   "metadata": {},
   "outputs": [
    {
     "data": {
      "text/plain": [
       "(10, 20, 30)"
      ]
     },
     "execution_count": 6,
     "metadata": {},
     "output_type": "execute_result"
    }
   ],
   "source": [
    "tt2 = 10, 20, 30\n",
    "tt2"
   ]
  },
  {
   "cell_type": "code",
   "execution_count": 8,
   "id": "1f678c21-bd37-4e69-b4fe-dbe3376f0175",
   "metadata": {},
   "outputs": [
    {
     "data": {
      "text/plain": [
       "50"
      ]
     },
     "execution_count": 8,
     "metadata": {},
     "output_type": "execute_result"
    }
   ],
   "source": [
    "tt3 = 10, 20, 30, 40, 50, 60, 70\n",
    "tt3[-3]"
   ]
  },
  {
   "cell_type": "code",
   "execution_count": 9,
   "id": "d15abd53-a572-4fe6-af12-a7a20819fe9f",
   "metadata": {},
   "outputs": [
    {
     "data": {
      "text/plain": [
       "(20, 30)"
      ]
     },
     "execution_count": 9,
     "metadata": {},
     "output_type": "execute_result"
    }
   ],
   "source": [
    "tt3[1:3]"
   ]
  },
  {
   "cell_type": "code",
   "execution_count": 11,
   "id": "fafe5dff-610c-4a92-beb1-53c615b38951",
   "metadata": {},
   "outputs": [
    {
     "ename": "TypeError",
     "evalue": "'tuple' object doesn't support item deletion",
     "output_type": "error",
     "traceback": [
      "\u001b[1;31m---------------------------------------------------------------------------\u001b[0m",
      "\u001b[1;31mTypeError\u001b[0m                                 Traceback (most recent call last)",
      "\u001b[1;32m~\\AppData\\Local\\Temp/ipykernel_6916/1418394082.py\u001b[0m in \u001b[0;36m<module>\u001b[1;34m\u001b[0m\n\u001b[1;32m----> 1\u001b[1;33m \u001b[1;32mdel\u001b[0m\u001b[1;33m(\u001b[0m\u001b[0mtt3\u001b[0m\u001b[1;33m[\u001b[0m\u001b[1;36m0\u001b[0m\u001b[1;33m]\u001b[0m\u001b[1;33m)\u001b[0m \u001b[1;31m# 내부 요소 삭제 불가능\u001b[0m\u001b[1;33m\u001b[0m\u001b[1;33m\u001b[0m\u001b[0m\n\u001b[0m",
      "\u001b[1;31mTypeError\u001b[0m: 'tuple' object doesn't support item deletion"
     ]
    }
   ],
   "source": [
    "del(tt3[0]) # 내부 요소 삭제 불가능"
   ]
  },
  {
   "cell_type": "code",
   "execution_count": 13,
   "id": "21f1c0bc-21b3-4aca-97f6-1a405138fab0",
   "metadata": {},
   "outputs": [
    {
     "ename": "AttributeError",
     "evalue": "'tuple' object has no attribute 'append'",
     "output_type": "error",
     "traceback": [
      "\u001b[1;31m---------------------------------------------------------------------------\u001b[0m",
      "\u001b[1;31mAttributeError\u001b[0m                            Traceback (most recent call last)",
      "\u001b[1;32m~\\AppData\\Local\\Temp/ipykernel_6916/4145565059.py\u001b[0m in \u001b[0;36m<module>\u001b[1;34m\u001b[0m\n\u001b[1;32m----> 1\u001b[1;33m \u001b[0mtt3\u001b[0m\u001b[1;33m.\u001b[0m\u001b[0mappend\u001b[0m\u001b[1;33m(\u001b[0m\u001b[1;36m1\u001b[0m\u001b[1;33m)\u001b[0m \u001b[1;31m# 내부에 요소 삽입 불가능\u001b[0m\u001b[1;33m\u001b[0m\u001b[1;33m\u001b[0m\u001b[0m\n\u001b[0m",
      "\u001b[1;31mAttributeError\u001b[0m: 'tuple' object has no attribute 'append'"
     ]
    }
   ],
   "source": [
    "tt3.append(1) # 내부에 요소 삽입 불가능"
   ]
  },
  {
   "cell_type": "code",
   "execution_count": 14,
   "id": "dbf6ac9d-1073-49db-9928-3616b10223cd",
   "metadata": {},
   "outputs": [
    {
     "data": {
      "text/plain": [
       "(10, 20, 30, 40, 'A', 'B')"
      ]
     },
     "execution_count": 14,
     "metadata": {},
     "output_type": "execute_result"
    }
   ],
   "source": [
    "tt1 = 10, 20, 30, 40\n",
    "tt2 = 'A', 'B'\n",
    "tt1 + tt2"
   ]
  },
  {
   "cell_type": "markdown",
   "id": "981b5ca6-d46b-4e72-a7c1-a8ef02dc41aa",
   "metadata": {},
   "source": [
    "## 리스트 <-> 튜플 변환\n",
    "- list()\n",
    "- tuple()"
   ]
  },
  {
   "cell_type": "code",
   "execution_count": 15,
   "id": "f3e5d3bc-7098-4af3-b272-2da8e491b5c4",
   "metadata": {},
   "outputs": [],
   "source": [
    "li = [1, 2, 3, 4, 5 ]\n",
    "tu = (-1, -2, -3, -4, -5)"
   ]
  },
  {
   "cell_type": "code",
   "execution_count": 17,
   "id": "d27fb27b-d8f4-4520-bbee-f8864bdacef4",
   "metadata": {},
   "outputs": [
    {
     "data": {
      "text/plain": [
       "(1, 2, 3, 4, 5)"
      ]
     },
     "execution_count": 17,
     "metadata": {},
     "output_type": "execute_result"
    }
   ],
   "source": [
    "tuple(li)"
   ]
  },
  {
   "cell_type": "code",
   "execution_count": 18,
   "id": "cfd5b949-cae3-456e-9a44-3ce9b8fe36f8",
   "metadata": {},
   "outputs": [
    {
     "data": {
      "text/plain": [
       "[-1, -2, -3, -4, -5]"
      ]
     },
     "execution_count": 18,
     "metadata": {},
     "output_type": "execute_result"
    }
   ],
   "source": [
    "list(tu)"
   ]
  },
  {
   "cell_type": "code",
   "execution_count": null,
   "id": "cf80bfac-f07f-43d3-9a03-23f28826fdf7",
   "metadata": {},
   "outputs": [],
   "source": []
  },
  {
   "cell_type": "markdown",
   "id": "fb87ca68-4a58-4008-8ae5-7108cc375dca",
   "metadata": {},
   "source": [
    "## 딕셔너리"
   ]
  },
  {
   "cell_type": "code",
   "execution_count": 21,
   "id": "aca3ba92-2624-4399-9fdf-298bd4ad1cc5",
   "metadata": {},
   "outputs": [
    {
     "data": {
      "text/plain": [
       "dict"
      ]
     },
     "execution_count": 21,
     "metadata": {},
     "output_type": "execute_result"
    }
   ],
   "source": [
    "dic1 = {}\n",
    "type(dic1)"
   ]
  },
  {
   "cell_type": "markdown",
   "id": "59552a6b-a2c8-4ab0-8d39-41ee8f28d7da",
   "metadata": {},
   "source": [
    "##### 학생정보"
   ]
  },
  {
   "cell_type": "code",
   "execution_count": 25,
   "id": "67501bc6-415b-48b7-af19-4d73ebfdd352",
   "metadata": {},
   "outputs": [
    {
     "name": "stdout",
     "output_type": "stream",
     "text": [
      "{'학번': 20201786, '이름': '김권웅', '학과': '기계공학과'}\n"
     ]
    }
   ],
   "source": [
    "student1 = {'학번' : 20201786, '이름' : '김권웅', '학과' : '기계공학과'}\n",
    "print(student1)"
   ]
  },
  {
   "cell_type": "code",
   "execution_count": 29,
   "id": "1a78cbda-825b-4ea9-897f-d901f8ea1dc5",
   "metadata": {},
   "outputs": [
    {
     "name": "stdout",
     "output_type": "stream",
     "text": [
      "20201786\n",
      "김권웅\n",
      "기계공학과\n"
     ]
    }
   ],
   "source": [
    "print(student1[\"학번\"])\n",
    "print(student1[\"이름\"])\n",
    "print(student1[\"학과\"])"
   ]
  },
  {
   "cell_type": "code",
   "execution_count": 37,
   "id": "1c6f485a-b57d-4e88-9187-36db0137ff34",
   "metadata": {},
   "outputs": [
    {
     "name": "stdout",
     "output_type": "stream",
     "text": [
      "20201786\n",
      "김권웅\n",
      "None\n",
      "기계공학과\n"
     ]
    }
   ],
   "source": [
    "print(student1.get(\"학번\"))\n",
    "print(student1.get(\"이름\"))\n",
    "print(student1.get(\"학굥\")) # 키가 없는 경우 None 출력 (오류X)\n",
    "print(student1.get(\"학과\"))"
   ]
  },
  {
   "cell_type": "code",
   "execution_count": 31,
   "id": "47f62d1c-23a2-4c92-b80b-efac737915d8",
   "metadata": {},
   "outputs": [
    {
     "name": "stdout",
     "output_type": "stream",
     "text": [
      "010 - 1234 - 4321\n"
     ]
    }
   ],
   "source": [
    "student1[\"연락처\"] = '010 - 1234 - 4321'\n",
    "print(student1[\"연락처\"])"
   ]
  },
  {
   "cell_type": "code",
   "execution_count": 33,
   "id": "b779be11-d4b8-4680-b63b-31e13d48fe5d",
   "metadata": {},
   "outputs": [
    {
     "name": "stdout",
     "output_type": "stream",
     "text": [
      "{'학번': 20201786, '이름': '김권웅', '학과': '기계공학과', '연락처': ''}\n"
     ]
    }
   ],
   "source": [
    "student1[\"연락처\"] = ''\n",
    "print(student1)"
   ]
  },
  {
   "cell_type": "code",
   "execution_count": 34,
   "id": "504240b7-ceda-403c-abf1-7940aeffb9b5",
   "metadata": {},
   "outputs": [
    {
     "name": "stdout",
     "output_type": "stream",
     "text": [
      "{'학번': 20201786, '이름': '김권웅', '학과': '기계공학과'}\n"
     ]
    }
   ],
   "source": [
    "del student1[\"연락처\"]\n",
    "print(student1)"
   ]
  },
  {
   "cell_type": "code",
   "execution_count": 38,
   "id": "0e5e08fb-456f-438f-ae1c-befb4945e929",
   "metadata": {},
   "outputs": [
    {
     "data": {
      "text/plain": [
       "dict_keys(['학번', '이름', '학과'])"
      ]
     },
     "execution_count": 38,
     "metadata": {},
     "output_type": "execute_result"
    }
   ],
   "source": [
    "student1.keys()"
   ]
  },
  {
   "cell_type": "code",
   "execution_count": 46,
   "id": "ee127d9c-40b2-4ba0-b0da-3ba68967c560",
   "metadata": {},
   "outputs": [
    {
     "name": "stdout",
     "output_type": "stream",
     "text": [
      "dict_keys(['학번', '이름', '학과'])\n"
     ]
    }
   ],
   "source": [
    "print(student1.keys())"
   ]
  },
  {
   "cell_type": "code",
   "execution_count": 40,
   "id": "a9c21c51-1c9c-417c-bf5f-1068966ed489",
   "metadata": {},
   "outputs": [
    {
     "data": {
      "text/plain": [
       "dict_values([20201786, '김권웅', '기계공학과'])"
      ]
     },
     "execution_count": 40,
     "metadata": {},
     "output_type": "execute_result"
    }
   ],
   "source": [
    "student1.values()"
   ]
  },
  {
   "cell_type": "code",
   "execution_count": 43,
   "id": "68530447-9c19-4aa4-9f75-2aba1879a56e",
   "metadata": {},
   "outputs": [
    {
     "data": {
      "text/plain": [
       "True"
      ]
     },
     "execution_count": 43,
     "metadata": {},
     "output_type": "execute_result"
    }
   ],
   "source": [
    "'이름' in student1 # 오로지 '키' 확인하는 용도"
   ]
  },
  {
   "cell_type": "code",
   "execution_count": 44,
   "id": "42396f6b-5a1b-4034-99fe-e5b0381db312",
   "metadata": {},
   "outputs": [
    {
     "data": {
      "text/plain": [
       "dict_items([('학번', 20201786), ('이름', '김권웅'), ('학과', '기계공학과')])"
      ]
     },
     "execution_count": 44,
     "metadata": {},
     "output_type": "execute_result"
    }
   ],
   "source": [
    "student1.items()"
   ]
  },
  {
   "cell_type": "code",
   "execution_count": 45,
   "id": "8fc8f59a-cf0e-43ba-8318-513684b258f2",
   "metadata": {},
   "outputs": [
    {
     "name": "stdout",
     "output_type": "stream",
     "text": [
      "학번 20201786\n",
      "이름 김권웅\n",
      "학과 기계공학과\n"
     ]
    }
   ],
   "source": [
    "for k, v in student1.items():\n",
    "    # print(student1[k])\n",
    "    print(k, v)"
   ]
  },
  {
   "cell_type": "markdown",
   "id": "1e624b49-f75f-4349-a25e-2ea317207504",
   "metadata": {},
   "source": [
    "### 185페이지 연습문제"
   ]
  },
  {
   "cell_type": "code",
   "execution_count": null,
   "id": "8e3adda3-579c-4482-aa3a-8f395a3cf887",
   "metadata": {},
   "outputs": [],
   "source": [
    "A, a = '떡볶이', '순대'\n",
    "B, b = '짜장면', '군만두'\n",
    "C, c = '라면', '김치'\n",
    "D, d = '피자', '파스타'\n",
    "E, e = '치킨', '맥주'\n",
    "F, f = '삼겹살', '고추냉이'\n",
    "G, g = '붉닭볶음면', '치즈'\n",
    "\n",
    "combi = { A : a, B : b, C : c, D : d, E : e, F : f, G : g }\n",
    "\n",
    "food = input(f\"['{A}' '{B}' '{C}' '{D}' '{E}' '{F}' '{G}']\" \n",
    "             + \"중 가장 좋아하는 음식은? : \")\n",
    "\n",
    "if (food in combi) == False:\n",
    "    print(\"그런 음식이 없습니다. 다시 확인하세요.\")\n",
    "else:\n",
    "    print(\"<%s>와 가장 잘 어울리는 음식은 \"%food + combi[food] + \"입니다.\")\n"
   ]
  },
  {
   "cell_type": "code",
   "execution_count": null,
   "id": "36ee2019-45e8-4873-be00-f31db8bdc76e",
   "metadata": {},
   "outputs": [],
   "source": []
  },
  {
   "cell_type": "markdown",
   "id": "6c24425b-9c43-4df7-b5e9-083a180da840",
   "metadata": {
    "tags": []
   },
   "source": [
    "### 세트"
   ]
  },
  {
   "cell_type": "code",
   "execution_count": 51,
   "id": "a77a0e21-8b27-43b0-9535-1a8c70d22386",
   "metadata": {},
   "outputs": [
    {
     "data": {
      "text/plain": [
       "{4, 5}"
      ]
     },
     "execution_count": 51,
     "metadata": {},
     "output_type": "execute_result"
    }
   ],
   "source": [
    "s1 = {1, 2, 3, 4, 5}\n",
    "s2 = {4, 5, 6, 7}\n",
    "\n",
    "s1.intersection(s2) # 교집합"
   ]
  },
  {
   "cell_type": "code",
   "execution_count": 52,
   "id": "8217ea74-af7e-4213-818b-cb48b035d383",
   "metadata": {},
   "outputs": [
    {
     "data": {
      "text/plain": [
       "{1, 2, 3, 4, 5, 6, 7}"
      ]
     },
     "execution_count": 52,
     "metadata": {},
     "output_type": "execute_result"
    }
   ],
   "source": [
    "s1.union(s2) # 합집합"
   ]
  },
  {
   "cell_type": "code",
   "execution_count": 55,
   "id": "f371ac28-bb73-45a6-992d-f17ab848d22e",
   "metadata": {},
   "outputs": [
    {
     "data": {
      "text/plain": [
       "{1, 2, 3}"
      ]
     },
     "execution_count": 55,
     "metadata": {},
     "output_type": "execute_result"
    }
   ],
   "source": [
    "s1.difference(s2) # 차집합 (s1 - s2)"
   ]
  },
  {
   "cell_type": "code",
   "execution_count": 56,
   "id": "a14f633f-b468-44dc-9973-06373b959df0",
   "metadata": {},
   "outputs": [
    {
     "data": {
      "text/plain": [
       "{1, 2, 3, 6, 7}"
      ]
     },
     "execution_count": 56,
     "metadata": {},
     "output_type": "execute_result"
    }
   ],
   "source": [
    "s1.symmetric_difference(s2) # 대칭 차집합"
   ]
  },
  {
   "cell_type": "markdown",
   "id": "a4555257-93e9-447b-8a66-ffcc59ec653b",
   "metadata": {},
   "source": [
    "## 컴프리헨션"
   ]
  },
  {
   "cell_type": "code",
   "execution_count": 57,
   "id": "04adf810-3f81-4f77-9cd6-7e920bdb974f",
   "metadata": {},
   "outputs": [
    {
     "data": {
      "text/plain": [
       "[2, 4, 6, 8, 10]"
      ]
     },
     "execution_count": 57,
     "metadata": {},
     "output_type": "execute_result"
    }
   ],
   "source": [
    "[num * 2 for num in range(1, 6)]"
   ]
  },
  {
   "cell_type": "code",
   "execution_count": 59,
   "id": "54cdebb5-4fdf-425c-86e4-e36f3ae838fb",
   "metadata": {},
   "outputs": [
    {
     "data": {
      "text/plain": [
       "[2, 4, 6, 8, 10]"
      ]
     },
     "execution_count": 59,
     "metadata": {},
     "output_type": "execute_result"
    }
   ],
   "source": [
    "numlist = [num * 2 for num in range(1, 6)]\n",
    "numlist"
   ]
  },
  {
   "cell_type": "code",
   "execution_count": 60,
   "id": "daff9d74-3db2-40f5-905a-8b369daedd9e",
   "metadata": {},
   "outputs": [
    {
     "data": {
      "text/plain": [
       "list"
      ]
     },
     "execution_count": 60,
     "metadata": {},
     "output_type": "execute_result"
    }
   ],
   "source": [
    "type(numlist)"
   ]
  },
  {
   "cell_type": "code",
   "execution_count": null,
   "id": "f176626b-fd5a-4579-a0c9-e3b515e82253",
   "metadata": {},
   "outputs": [],
   "source": []
  },
  {
   "cell_type": "code",
   "execution_count": 61,
   "id": "d51e5400-edf2-4dc6-80bd-efefbfe43d93",
   "metadata": {},
   "outputs": [
    {
     "data": {
      "text/plain": [
       "[3, 6, 9, 12, 15, 18]"
      ]
     },
     "execution_count": 61,
     "metadata": {},
     "output_type": "execute_result"
    }
   ],
   "source": [
    "[num for num in range(1, 21) if num % 3 == 0]"
   ]
  },
  {
   "cell_type": "code",
   "execution_count": 62,
   "id": "607a0bbc-a76d-414c-933e-72fe8a1ca084",
   "metadata": {},
   "outputs": [
    {
     "name": "stdout",
     "output_type": "stream",
     "text": [
      "q --> 1\n",
      "w --> 2\n",
      "e --> 3\n",
      "r --> 4\n",
      "t --> 5\n"
     ]
    }
   ],
   "source": [
    "alph = ['q', 'w', 'e', 'r', 't', 'y', 'u', 'i']\n",
    "num = ['1', '2', '3', '4', '5']\n",
    "for alpha, numb in zip(alph, num):\n",
    "    print(alpha, \"-->\", numb)"
   ]
  },
  {
   "cell_type": "code",
   "execution_count": 2,
   "id": "1ed44340-a476-433a-a502-0c708e2bad48",
   "metadata": {},
   "outputs": [
    {
     "name": "stdout",
     "output_type": "stream",
     "text": [
      "[('q', '1'), ('w', '2'), ('e', '3'), ('r', '4'), ('t', '5')]\n",
      "{'q': '1', 'w': '2', 'e': '3', 'r': '4', 't': '5'}\n"
     ]
    }
   ],
   "source": [
    "tup = []\n",
    "dic = {}\n",
    "\n",
    "alph = ['q', 'w', 'e', 'r', 't', 'y', 'u', 'i']\n",
    "num = ['1', '2', '3', '4', '5']\n",
    "\n",
    "tup = list(zip(alph, num))\n",
    "dic = dict(zip(alph, num))\n",
    "print(tup)\n",
    "print(dic)"
   ]
  },
  {
   "cell_type": "code",
   "execution_count": 3,
   "id": "67dc7ba4-1eef-4d53-a1ec-14cf9e813615",
   "metadata": {},
   "outputs": [
    {
     "data": {
      "text/plain": [
       "<zip at 0x16ec711ed00>"
      ]
     },
     "execution_count": 3,
     "metadata": {},
     "output_type": "execute_result"
    }
   ],
   "source": [
    "zip(alph, num)"
   ]
  },
  {
   "cell_type": "markdown",
   "id": "acada859-e907-4436-8860-5809c16b637b",
   "metadata": {},
   "source": [
    "## 복사 : 얕은 복사/ 깊은 복사\n",
    "- copy by reference (객체)\n",
    "- copy by value (값)"
   ]
  },
  {
   "cell_type": "code",
   "execution_count": 4,
   "id": "b4fb907a-af63-4129-a8c8-c9e136b51d9c",
   "metadata": {},
   "outputs": [],
   "source": [
    "li1 = [1, 2, 3, 4]\n",
    "li2 = li1"
   ]
  },
  {
   "cell_type": "code",
   "execution_count": 5,
   "id": "5a2747be-1c05-4548-8869-f36e02a65756",
   "metadata": {},
   "outputs": [
    {
     "data": {
      "text/plain": [
       "1575298015360"
      ]
     },
     "execution_count": 5,
     "metadata": {},
     "output_type": "execute_result"
    }
   ],
   "source": [
    "id(li1)"
   ]
  },
  {
   "cell_type": "code",
   "execution_count": 7,
   "id": "ebb445d2-34f9-4d5f-bd93-60eaa29aad24",
   "metadata": {},
   "outputs": [
    {
     "data": {
      "text/plain": [
       "1575298015360"
      ]
     },
     "execution_count": 7,
     "metadata": {},
     "output_type": "execute_result"
    }
   ],
   "source": [
    "id(li2)"
   ]
  },
  {
   "cell_type": "code",
   "execution_count": null,
   "id": "87ffcf9b-5177-49c9-8fc1-6319138456e0",
   "metadata": {},
   "outputs": [],
   "source": []
  },
  {
   "cell_type": "code",
   "execution_count": 8,
   "id": "4e7e263b-f6ed-4fc7-b674-8494fc8df368",
   "metadata": {},
   "outputs": [
    {
     "name": "stdout",
     "output_type": "stream",
     "text": [
      "['짜장면', '탕수육', '군만두']\n",
      "['짬뽕', '탕수육', '군만두', '깐뿡끼']\n"
     ]
    }
   ],
   "source": [
    "oldList = ['짜장면', '탕수육', '군만두']\n",
    "newList = oldList\n",
    "print(newList)\n",
    "oldList[0] = '짬뽕'\n",
    "oldList.append('깐뿡끼')\n",
    "print(newList)"
   ]
  },
  {
   "cell_type": "code",
   "execution_count": 18,
   "id": "b4f96ddb-d33f-480b-aabe-ec346dbbbfc4",
   "metadata": {},
   "outputs": [
    {
     "name": "stdout",
     "output_type": "stream",
     "text": [
      "['짜장면', '탕수육', '군만두']\n",
      "['짬뽕', '탕수육', '군만두', '크림새우', '칠리새우']\n"
     ]
    }
   ],
   "source": [
    "oldList = ['짜장면', '탕수육', '군만두']\n",
    "newList = []\n",
    "for i in range(0, len(oldList)):\n",
    "    newList.append(oldList[i])\n",
    "print(newList)\n",
    "newList[0] = '짬뽕'\n",
    "newList.append('크림새우')\n",
    "newList.append('칠리새우')\n",
    "print(newList)"
   ]
  },
  {
   "cell_type": "code",
   "execution_count": 14,
   "id": "1059a9fd-a29a-4c77-9088-2dbbafb01ac2",
   "metadata": {},
   "outputs": [],
   "source": [
    "## 6장 7장 연습문제 풀어보기"
   ]
  },
  {
   "cell_type": "code",
   "execution_count": null,
   "id": "02c3f37b-ddbe-4e1d-9a08-02f458a5a232",
   "metadata": {},
   "outputs": [],
   "source": []
  }
 ],
 "metadata": {
  "kernelspec": {
   "display_name": "Python 3 (ipykernel)",
   "language": "python",
   "name": "python3"
  },
  "language_info": {
   "codemirror_mode": {
    "name": "ipython",
    "version": 3
   },
   "file_extension": ".py",
   "mimetype": "text/x-python",
   "name": "python",
   "nbconvert_exporter": "python",
   "pygments_lexer": "ipython3",
   "version": "3.9.7"
  }
 },
 "nbformat": 4,
 "nbformat_minor": 5
}
