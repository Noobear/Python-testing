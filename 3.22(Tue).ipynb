{
 "cells": [
  {
   "cell_type": "markdown",
   "id": "54c420b8-7dee-487d-971b-795b368146ca",
   "metadata": {},
   "source": [
    "shift + m = 셀 결합"
   ]
  },
  {
   "cell_type": "code",
   "execution_count": 26,
   "id": "36eccba5-6f1d-4f6c-a113-c9cebe9b17a3",
   "metadata": {},
   "outputs": [
    {
     "name": "stdin",
     "output_type": "stream",
     "text": [
      "숫자 1 입력: 555\n",
      "숫자 2 입력: 555\n",
      "숫자 3 입력: 222\n"
     ]
    },
    {
     "name": "stdout",
     "output_type": "stream",
     "text": [
      "555 + 555 + 222 = 1332\n",
      "555 * 555 * 222 = 68381550\n",
      "( 555 + 555 + 222 ) / 3 = 444.0\n",
      "555\n",
      "555+555+222= 1332\n"
     ]
    }
   ],
   "source": [
    "a = int(input(\"숫자 1 입력:\"))\n",
    "b = int(input(\"숫자 2 입력:\"))\n",
    "c = int(input(\"숫자 3 입력:\"))\n",
    "print(a, '+', b, '+', c, '=', a + b + c)\n",
    "print(a, '*', b, '*', c, '=', a*b*c)\n",
    "print('(', a, '+', b, '+', c, ') / 3 =', (a+b+c)/3)\n",
    "\n",
    "CE = (a, b, c)\n",
    "print(CE[0])\n",
    "\n",
    "print(f\"{a}+{b}+{c}=\", (a+b+c))"
   ]
  },
  {
   "cell_type": "markdown",
   "id": "39002858-5662-4643-b88e-5dc41e4da8ef",
   "metadata": {},
   "source": [
    "# Chapter3"
   ]
  },
  {
   "cell_type": "markdown",
   "id": "e50e9d7d-9e12-484a-ae8a-8e7c365ab444",
   "metadata": {},
   "source": [
    "**print()** --> 입력 값을 기본 콘솔(터미널)로 내보내는 역할.\n",
    "\n",
    "\n",
    "**OS 콘솔**\n",
    "- 표준입출력을 수행하는 프로그램\n",
    "\n",
    "**형식화문자열(Formating string)**\n",
    "1. `%` 연결자\n",
    "1. `string.format()`\n",
    "1. `f`리터럴"
   ]
  },
  {
   "cell_type": "markdown",
   "id": "c13f735a-2929-479c-857e-d56889473a88",
   "metadata": {},
   "source": [
    "### 1.`%`연결자 방법\n",
    "- %d : 정수(10진수)/ %x : 16진수/ %o : 8진수\n",
    "- %f : 실수\n",
    "- %c : 한 글자\n",
    "- %s : 두 글자 이상인 문자열"
   ]
  },
  {
   "cell_type": "code",
   "execution_count": 27,
   "id": "2003e05b-0eb2-4c69-8854-21d82744faeb",
   "metadata": {},
   "outputs": [
    {
     "name": "stdout",
     "output_type": "stream",
     "text": [
      "입력된 값: 10, 입력 값의 제곱: 100\n"
     ]
    }
   ],
   "source": [
    "print(\"입력된 값: %d, 입력 값의 제곱: %d\" % (10, 100))"
   ]
  },
  {
   "cell_type": "code",
   "execution_count": 28,
   "id": "574f4009-c28c-4452-bc95-95abbc4ec2f0",
   "metadata": {},
   "outputs": [
    {
     "name": "stdout",
     "output_type": "stream",
     "text": [
      "10\n"
     ]
    }
   ],
   "source": [
    "print(\"%x\" % 16)"
   ]
  },
  {
   "cell_type": "code",
   "execution_count": 29,
   "id": "170ae15b-fdd1-4350-8ca5-5d070fe77f7d",
   "metadata": {},
   "outputs": [
    {
     "name": "stdout",
     "output_type": "stream",
     "text": [
      "1 3 5 7 10 11\n"
     ]
    }
   ],
   "source": [
    "print(\"%o %o %o %o %o %o\" %(1, 3, 5, 7, 8, 9))"
   ]
  },
  {
   "cell_type": "markdown",
   "id": "61e7464a-bcc9-4da9-84ae-59aa468f250f",
   "metadata": {},
   "source": [
    "### 2.`string.format()`"
   ]
  },
  {
   "cell_type": "code",
   "execution_count": 11,
   "id": "d30d2a1b-0985-4f47-9128-0eb37cc9c6c3",
   "metadata": {},
   "outputs": [
    {
     "name": "stdout",
     "output_type": "stream",
     "text": [
      "0 : 안녕하세? for 문을 공부 중.^^\n",
      "1 : 안녕하세? for 문을 공부 중.^^\n",
      "2 : 안녕하세? for 문을 공부 중.^^\n"
     ]
    }
   ],
   "source": [
    "for i in range(0, 3, 1):\n",
    "    print(\"{0:d} : 안녕하세? for 문을 공부 중.^^\".format(i))"
   ]
  },
  {
   "cell_type": "code",
   "execution_count": null,
   "id": "0cefc6c6-c7d1-422a-bb79-b32996c27077",
   "metadata": {},
   "outputs": [],
   "source": [
    "print(\"{0:d} {1:5d} {2:09d}\".format(130, 133, 199))"
   ]
  },
  {
   "cell_type": "code",
   "execution_count": null,
   "id": "767c3229-0723-41de-8c49-83f2af3aac2f",
   "metadata": {},
   "outputs": [],
   "source": [
    "print(\"{0:d} {2:5d} {1:09d}\".format(130, 133, 199))"
   ]
  },
  {
   "cell_type": "markdown",
   "id": "8a5441ed-9ce4-4a83-8fa8-a6cf773be7fa",
   "metadata": {},
   "source": [
    "### 3.`f`리터럴"
   ]
  },
  {
   "cell_type": "code",
   "execution_count": 30,
   "id": "dc86fb67-709a-4d19-a1e0-764d6347eeaf",
   "metadata": {},
   "outputs": [
    {
     "name": "stdout",
     "output_type": "stream",
     "text": [
      "입력된 값: 10, 입력 값의 제곱: 100\n"
     ]
    }
   ],
   "source": [
    "print(f\"입력된 값: {10}, 입력 값의 제곱: {100}\")"
   ]
  },
  {
   "cell_type": "markdown",
   "id": "85af9880-9c09-4510-b2d3-8cfd2c3fbe59",
   "metadata": {},
   "source": [
    "### 65페이지 예제"
   ]
  },
  {
   "cell_type": "code",
   "execution_count": 31,
   "id": "78882673-b545-4d4e-ae52-77a73261d345",
   "metadata": {},
   "outputs": [
    {
     "name": "stdout",
     "output_type": "stream",
     "text": [
      "123\n",
      "  123\n",
      "00123 \n",
      "\n",
      "123.450000\n",
      "  123.5\n",
      "123.450\n",
      " 123.45 \n",
      "\n",
      "Python\n",
      "    Python\n",
      " Python\n"
     ]
    }
   ],
   "source": [
    "print(\"%d\" % 123)\n",
    "print(\"%5d\" % 123)\n",
    "print(\"%05d\" % 123, \"\\n\")\n",
    "\n",
    "print(\"%f\" % 123.45)\n",
    "print(\"%7.1f\" % 123.45)\n",
    "print(\"%7.3f\" % 123.45)\n",
    "print(\"%7.2f\" % 123.45, \"\\n\")\n",
    "\n",
    "print(\"%s\" % \"Python\")\n",
    "print(\"%10s\" % \"Python\")\n",
    "print(\"%7s\" % \"Python\")\n"
   ]
  },
  {
   "cell_type": "markdown",
   "id": "59930723-682a-4453-8b8a-fbbd917c8e1c",
   "metadata": {},
   "source": [
    "### 67페이지 예제"
   ]
  },
  {
   "cell_type": "code",
   "execution_count": 32,
   "id": "fdd60287-2c33-4cf3-8cd3-3c3594cf1cf2",
   "metadata": {},
   "outputs": [
    {
     "name": "stdout",
     "output_type": "stream",
     "text": [
      "130   133 000000199\n"
     ]
    }
   ],
   "source": [
    "print(\"{0:d} {1:5d} {2:09d}\".format(130, 133, 199))"
   ]
  },
  {
   "cell_type": "code",
   "execution_count": 33,
   "id": "421042c5-f732-4a24-b1ad-b94938c0ff8b",
   "metadata": {},
   "outputs": [
    {
     "name": "stdout",
     "output_type": "stream",
     "text": [
      "130   199 000000133\n"
     ]
    }
   ],
   "source": [
    "print(\"{0:d} {2:5d} {1:09d}\".format(130, 133, 199))"
   ]
  },
  {
   "cell_type": "markdown",
   "id": "063f1bc4-4d0b-419f-bedc-fdf600b6ffc5",
   "metadata": {},
   "source": [
    "### 68페이지 예제"
   ]
  },
  {
   "cell_type": "code",
   "execution_count": 34,
   "id": "1355c4b1-c8d1-4586-bbb3-e40d3fe4ee9e",
   "metadata": {},
   "outputs": [
    {
     "name": "stdout",
     "output_type": "stream",
     "text": [
      "이건 첫 줄. \n",
      "그리고 이건 두 줄.\n"
     ]
    }
   ],
   "source": [
    "print(\"이건 첫 줄. \\n그리고 이건 두 줄.\")"
   ]
  },
  {
   "cell_type": "code",
   "execution_count": 35,
   "id": "d7721cf7-ebb8-423b-8ed2-a8fddcca672b",
   "metadata": {},
   "outputs": [
    {
     "name": "stdout",
     "output_type": "stream",
     "text": [
      "----\t----\t----\n"
     ]
    }
   ],
   "source": [
    "print(\"----\\t----\\t----\")"
   ]
  },
  {
   "cell_type": "code",
   "execution_count": 36,
   "id": "4c5107e6-53ce-4ccc-b540-318b54144241",
   "metadata": {},
   "outputs": [
    {
     "name": "stdout",
     "output_type": "stream",
     "text": [
      "word 'GOOD'\n",
      "word \"GOOD\"\n"
     ]
    }
   ],
   "source": [
    "print(\"word \\'GOOD\\'\")\n",
    "print(\"word \\\"GOOD\\\"\")"
   ]
  },
  {
   "cell_type": "code",
   "execution_count": 37,
   "id": "cbc80ac1-c235-4ab1-9ac9-adcf4024e118",
   "metadata": {},
   "outputs": [
    {
     "name": "stdout",
     "output_type": "stream",
     "text": [
      "\\\\\n",
      "\\n \\t \\\" \\\\ 를 그대로 출력\n"
     ]
    }
   ],
   "source": [
    "print(\"\\\\\\\\\")\n",
    "print(r\"\\n \\t \\\" \\\\ 를 그대로 출력\")"
   ]
  },
  {
   "cell_type": "markdown",
   "id": "5158148b-59a1-4f35-b8e6-0782bda9bdd7",
   "metadata": {},
   "source": [
    "raw stirng : 있는 그대로 출력하게 된다. 어떠한 기능 x - 문자 그대로 출력"
   ]
  },
  {
   "cell_type": "markdown",
   "id": "f114aaad-31d0-41a9-bdd8-4aa4ab11a35f",
   "metadata": {
    "tags": []
   },
   "source": [
    "### 70페이지 Section3\n",
    "\n",
    "변수 = 동적 타이핑(Dynamic typing)"
   ]
  },
  {
   "cell_type": "code",
   "execution_count": 38,
   "id": "4c951dc6-e1d0-477d-95a3-a7ae52430ecc",
   "metadata": {},
   "outputs": [],
   "source": [
    "boolVar = True\n",
    "intVar = 0\n",
    "floatVar = 0.1\n",
    "strVar = \"hungry\""
   ]
  },
  {
   "cell_type": "code",
   "execution_count": 39,
   "id": "574e33c1-16f9-4ef1-998e-73d136be197d",
   "metadata": {},
   "outputs": [
    {
     "data": {
      "text/plain": [
       "(bool, int, float, str)"
      ]
     },
     "execution_count": 39,
     "metadata": {},
     "output_type": "execute_result"
    }
   ],
   "source": [
    "type(boolVar),type(intVar),type(floatVar),type(strVar)"
   ]
  },
  {
   "cell_type": "markdown",
   "id": "3f06036c-0e5e-4467-af34-bf9ffbdb5797",
   "metadata": {
    "tags": []
   },
   "source": [
    "### Sec4 진수 변환"
   ]
  },
  {
   "cell_type": "code",
   "execution_count": 40,
   "id": "2d569ad8-a7a9-4f5b-851c-f29352a4295c",
   "metadata": {},
   "outputs": [
    {
     "data": {
      "text/plain": [
       "147"
      ]
     },
     "execution_count": 40,
     "metadata": {},
     "output_type": "execute_result"
    }
   ],
   "source": [
    "0b10010011"
   ]
  },
  {
   "cell_type": "code",
   "execution_count": 41,
   "id": "671e3594-02e2-4137-9de5-7a829ae85792",
   "metadata": {
    "tags": []
   },
   "outputs": [
    {
     "data": {
      "text/plain": [
       "147"
      ]
     },
     "execution_count": 41,
     "metadata": {},
     "output_type": "execute_result"
    }
   ],
   "source": [
    "int('10010011',2)"
   ]
  },
  {
   "cell_type": "code",
   "execution_count": 42,
   "id": "313f24a6-8fe4-4b27-9591-f053493e933a",
   "metadata": {},
   "outputs": [
    {
     "data": {
      "text/plain": [
       "250"
      ]
     },
     "execution_count": 42,
     "metadata": {},
     "output_type": "execute_result"
    }
   ],
   "source": [
    "int('FA',16)"
   ]
  },
  {
   "cell_type": "code",
   "execution_count": 43,
   "id": "01c52c3d-21b9-4b8b-87da-fb56e69a5b9f",
   "metadata": {},
   "outputs": [
    {
     "data": {
      "text/plain": [
       "'0b10010011'"
      ]
     },
     "execution_count": 43,
     "metadata": {},
     "output_type": "execute_result"
    }
   ],
   "source": [
    "bin(147)"
   ]
  },
  {
   "cell_type": "code",
   "execution_count": 44,
   "id": "5cb4256f-6cd0-4e21-99ed-99f194189053",
   "metadata": {},
   "outputs": [
    {
     "data": {
      "text/plain": [
       "'0b11111010'"
      ]
     },
     "execution_count": 44,
     "metadata": {},
     "output_type": "execute_result"
    }
   ],
   "source": [
    "bin(0xFA)\n",
    "##--> 2진수로 변환"
   ]
  },
  {
   "cell_type": "code",
   "execution_count": 45,
   "id": "c20fa491-f9a9-478b-91b3-97f8423c76e3",
   "metadata": {},
   "outputs": [
    {
     "data": {
      "text/plain": [
       "'0o223'"
      ]
     },
     "execution_count": 45,
     "metadata": {},
     "output_type": "execute_result"
    }
   ],
   "source": [
    "oct(147)\n",
    "##--> 8진수로 변환"
   ]
  },
  {
   "cell_type": "code",
   "execution_count": 46,
   "id": "98dfb4b7-3386-4474-b0cc-3ad214527c06",
   "metadata": {},
   "outputs": [
    {
     "data": {
      "text/plain": [
       "'0x93'"
      ]
     },
     "execution_count": 46,
     "metadata": {},
     "output_type": "execute_result"
    }
   ],
   "source": [
    "hex(147) \n",
    "##--> 16진수로 변환"
   ]
  },
  {
   "cell_type": "markdown",
   "id": "a0daf7e2-54f7-46c9-8e67-125739babcd0",
   "metadata": {},
   "source": [
    "### 81패이지 예제\n",
    "\n",
    "* 81페이지 아래 부분 --> 조건문 끝나고 실습 예정"
   ]
  },
  {
   "cell_type": "code",
   "execution_count": 3,
   "id": "e59abc32-e361-46d3-9a53-daf33d1c9cca",
   "metadata": {},
   "outputs": [
    {
     "name": "stdin",
     "output_type": "stream",
     "text": [
      "입력 진수 결정(16/10/8/2) :  16\n",
      "입력 값: FF\n"
     ]
    },
    {
     "name": "stdout",
     "output_type": "stream",
     "text": [
      "16진수 ==> 0xff\n",
      "10진수 ==> 255\n",
      "8진수 ==> 0o377\n",
      "2진수 ==> 0b11111111\n"
     ]
    }
   ],
   "source": [
    "sel = int(input(\"입력 진수 결정(16/10/8/2) : \"))\n",
    "num = input(\"입력 값:\")\n",
    "\n",
    "if sel == 16:\n",
    "    num10 = int(num,16)\n",
    "if sel == 10:\n",
    "    num10 = int(num,10)\n",
    "if sel == 8:\n",
    "    num10 = int(num,8)\n",
    "if sel == 2:\n",
    "    num10 = int(num,2)\n",
    "\n",
    "print(\"16진수 ==>\", hex(num10))\n",
    "print(\"10진수 ==>\", (num10))\n",
    "print(\"8진수 ==>\", oct(num10))\n",
    "print(\"2진수 ==>\", bin(num10))\n"
   ]
  },
  {
   "cell_type": "markdown",
   "id": "598e51f2-91db-4dee-8c1c-e5e882b885d1",
   "metadata": {},
   "source": [
    "### 81패이지 예제 +++\n",
    "\n",
    "* 81페이지 아래 부분\n",
    "* 입력 진수 확인\n",
    "* 문자 입력 확인"
   ]
  },
  {
   "cell_type": "code",
   "execution_count": 4,
   "id": "518b2d18-bfcd-4a38-979f-2a881c44bf8a",
   "metadata": {},
   "outputs": [
    {
     "name": "stdin",
     "output_type": "stream",
     "text": [
      "입력 진수 결정(16/10/8/2) :  22\n",
      "입력 값: 22\n"
     ]
    },
    {
     "name": "stdout",
     "output_type": "stream",
     "text": [
      "16, 10, 8, 2 숫자 중 하나만 입력하세요.\n"
     ]
    },
    {
     "ename": "NameError",
     "evalue": "name 'num10' is not defined",
     "output_type": "error",
     "traceback": [
      "\u001b[1;31m---------------------------------------------------------------------------\u001b[0m",
      "\u001b[1;31mNameError\u001b[0m                                 Traceback (most recent call last)",
      "\u001b[1;32m~\\AppData\\Local\\Temp/ipykernel_7640/271420415.py\u001b[0m in \u001b[0;36m<module>\u001b[1;34m\u001b[0m\n\u001b[0;32m     16\u001b[0m \u001b[1;33m\u001b[0m\u001b[0m\n\u001b[0;32m     17\u001b[0m \u001b[1;33m\u001b[0m\u001b[0m\n\u001b[1;32m---> 18\u001b[1;33m \u001b[0mprint\u001b[0m\u001b[1;33m(\u001b[0m\u001b[1;34m\"16진수 ==>\"\u001b[0m\u001b[1;33m,\u001b[0m \u001b[0mhex\u001b[0m\u001b[1;33m(\u001b[0m\u001b[0mnum10\u001b[0m\u001b[1;33m)\u001b[0m\u001b[1;33m)\u001b[0m\u001b[1;33m\u001b[0m\u001b[1;33m\u001b[0m\u001b[0m\n\u001b[0m\u001b[0;32m     19\u001b[0m \u001b[0mprint\u001b[0m\u001b[1;33m(\u001b[0m\u001b[1;34m\"10진수 ==>\"\u001b[0m\u001b[1;33m,\u001b[0m \u001b[1;33m(\u001b[0m\u001b[0mnum10\u001b[0m\u001b[1;33m)\u001b[0m\u001b[1;33m)\u001b[0m\u001b[1;33m\u001b[0m\u001b[1;33m\u001b[0m\u001b[0m\n\u001b[0;32m     20\u001b[0m \u001b[0mprint\u001b[0m\u001b[1;33m(\u001b[0m\u001b[1;34m\"8진수 ==>\"\u001b[0m\u001b[1;33m,\u001b[0m \u001b[0moct\u001b[0m\u001b[1;33m(\u001b[0m\u001b[0mnum10\u001b[0m\u001b[1;33m)\u001b[0m\u001b[1;33m)\u001b[0m\u001b[1;33m\u001b[0m\u001b[1;33m\u001b[0m\u001b[0m\n",
      "\u001b[1;31mNameError\u001b[0m: name 'num10' is not defined"
     ]
    }
   ],
   "source": [
    "sel = int(input(\"입력 진수 결정(16/10/8/2) : \"))\n",
    "num = input(\"입력 값:\")\n",
    "\n",
    "if sel == 16:\n",
    "    num10 = int(num,16)\n",
    "elif sel == 10:\n",
    "    num10 = int(num,10)\n",
    "elif sel == 8:\n",
    "    num10 = int(num,8)\n",
    "elif sel == 2:\n",
    "    num10 = int(num,2)\n",
    "else:\n",
    "    print(\"16, 10, 8, 2 숫자 중 하나만 입력하세요.\") #받은 진수 확인\n",
    "\n",
    "if type(num) == str:\n",
    "    print(\"문자열\")\n",
    "elif type(num) == int:\n",
    "    print(\"정수\")\n",
    "\n",
    "\n",
    "print(\"16진수 ==>\", hex(num10))\n",
    "print(\"10진수 ==>\", (num10))\n",
    "print(\"8진수 ==>\", oct(num10))\n",
    "print(\"2진수 ==>\", bin(num10))\n"
   ]
  },
  {
   "cell_type": "markdown",
   "id": "19d1a067-e5d1-4a07-aec1-2ee3bfb9b881",
   "metadata": {},
   "source": [
    "### Sec05 기본 데이터항\n",
    "\n",
    "기본형식 -> 하나의 값을 저장하는 방법"
   ]
  },
  {
   "cell_type": "code",
   "execution_count": 5,
   "id": "9c480286-a917-466b-99a1-edc4d9c3f7a5",
   "metadata": {},
   "outputs": [
    {
     "data": {
      "text/plain": [
       "int"
      ]
     },
     "execution_count": 5,
     "metadata": {},
     "output_type": "execute_result"
    }
   ],
   "source": [
    "a = 123 #정수\n",
    "type(a)"
   ]
  },
  {
   "cell_type": "code",
   "execution_count": 6,
   "id": "7d66ff6a-6547-444c-a8e3-18e4de193a33",
   "metadata": {},
   "outputs": [
    {
     "data": {
      "text/plain": [
       "int"
      ]
     },
     "execution_count": 6,
     "metadata": {},
     "output_type": "execute_result"
    }
   ],
   "source": [
    "b = 100**10 #정수\n",
    "type(b)"
   ]
  },
  {
   "cell_type": "code",
   "execution_count": 7,
   "id": "d14a5744-e662-4f25-8d73-1a6df840c242",
   "metadata": {},
   "outputs": [
    {
     "data": {
      "text/plain": [
       "int"
      ]
     },
     "execution_count": 7,
     "metadata": {},
     "output_type": "execute_result"
    }
   ],
   "source": [
    "c = 0xFF\n",
    "type(c)"
   ]
  },
  {
   "cell_type": "code",
   "execution_count": 8,
   "id": "962ca65e-6417-417a-9ef1-db9a5881fdc7",
   "metadata": {},
   "outputs": [
    {
     "name": "stdout",
     "output_type": "stream",
     "text": [
      "255\n"
     ]
    }
   ],
   "source": [
    "print(c)"
   ]
  },
  {
   "cell_type": "code",
   "execution_count": 9,
   "id": "2887eb77-8387-4b86-a1cd-f45496f8716f",
   "metadata": {},
   "outputs": [],
   "source": [
    "a = 3.14\n",
    "b = 3.14e5"
   ]
  },
  {
   "cell_type": "code",
   "execution_count": 10,
   "id": "f2581c76-0211-406f-93a5-4e35e87701b0",
   "metadata": {},
   "outputs": [
    {
     "data": {
      "text/plain": [
       "3.14"
      ]
     },
     "execution_count": 10,
     "metadata": {},
     "output_type": "execute_result"
    }
   ],
   "source": [
    "a"
   ]
  },
  {
   "cell_type": "code",
   "execution_count": 11,
   "id": "4e492b5f-7af3-4961-a444-d298f7347e68",
   "metadata": {},
   "outputs": [
    {
     "data": {
      "text/plain": [
       "314000.0"
      ]
     },
     "execution_count": 11,
     "metadata": {},
     "output_type": "execute_result"
    }
   ],
   "source": [
    "b"
   ]
  },
  {
   "cell_type": "markdown",
   "id": "efecc501-c548-4b85-834e-6e93a115a2ae",
   "metadata": {},
   "source": [
    "1. 정밀도가 큰 자료형으로 결과가 반환\n",
    "2. 자료범위가 큰 자료형으로 결과가 반환"
   ]
  },
  {
   "cell_type": "markdown",
   "id": "7e05708e-a970-4af1-8913-7b34d11aa195",
   "metadata": {},
   "source": [
    "#### 불형 (bool)\n",
    "- 참 거짓만 저장 가능"
   ]
  },
  {
   "cell_type": "code",
   "execution_count": 12,
   "id": "3447d9c7-4815-40da-aae6-1bb96faafd52",
   "metadata": {},
   "outputs": [
    {
     "data": {
      "text/plain": [
       "(False, True)"
      ]
     },
     "execution_count": 12,
     "metadata": {},
     "output_type": "execute_result"
    }
   ],
   "source": [
    "10 == 1, 10 == 10"
   ]
  },
  {
   "cell_type": "markdown",
   "id": "b710a8a3-ff89-4c6c-9e42-5e72d21bc2f3",
   "metadata": {},
   "source": [
    "#### 문자열\n",
    "- 문자의 집합"
   ]
  },
  {
   "cell_type": "code",
   "execution_count": 13,
   "id": "fc782d3c-7f65-473b-ba6d-4d1aa67f5c04",
   "metadata": {},
   "outputs": [
    {
     "data": {
      "text/plain": [
       "'안녕'"
      ]
     },
     "execution_count": 13,
     "metadata": {},
     "output_type": "execute_result"
    }
   ],
   "source": [
    "\"안녕\""
   ]
  },
  {
   "cell_type": "code",
   "execution_count": 14,
   "id": "bba1cbf6-a0cd-438c-9824-d9518f28e65e",
   "metadata": {},
   "outputs": [
    {
     "data": {
      "text/plain": [
       "str"
      ]
     },
     "execution_count": 14,
     "metadata": {},
     "output_type": "execute_result"
    }
   ],
   "source": [
    "a = \"Hello, world\"\n",
    "type(a)"
   ]
  },
  {
   "cell_type": "code",
   "execution_count": 15,
   "id": "5af79c1c-d8b2-41d5-9ea3-37db56b094e0",
   "metadata": {},
   "outputs": [
    {
     "name": "stdout",
     "output_type": "stream",
     "text": [
      "\n",
      "아 집에 가고 싶다\n",
      "진짜 놀 고 싶 다\n",
      "자고 싶다\n",
      "\n"
     ]
    },
    {
     "data": {
      "text/plain": [
       "str"
      ]
     },
     "execution_count": 15,
     "metadata": {},
     "output_type": "execute_result"
    }
   ],
   "source": [
    "H = \"\"\"\n",
    "아 집에 가고 싶다\n",
    "진짜 놀 고 싶 다\n",
    "자고 싶다\n",
    "\"\"\"\n",
    "print(H)\n",
    "type(H)"
   ]
  },
  {
   "cell_type": "code",
   "execution_count": 16,
   "id": "ca949e5b-2a30-4fad-bef2-e29b46515c95",
   "metadata": {},
   "outputs": [
    {
     "name": "stdout",
     "output_type": "stream",
     "text": [
      "메인 함수 부분이 실행됩니다.\n",
      "함수를 호출합니다.\n",
      "전역 변수 값: 100\n"
     ]
    }
   ],
   "source": [
    "## 함수 선언\n",
    "def Func():\n",
    "    print('함수를 호출합니다.')\n",
    "\n",
    "## 전역 변수 선언\n",
    "gVar = 100\n",
    "\n",
    "## 메인 코드\n",
    "if __name__=='__main__':\n",
    "    print('메인 함수 부분이 실행됩니다.')\n",
    "    Func()\n",
    "    print('전역 변수 값:', gVar)"
   ]
  },
  {
   "cell_type": "markdown",
   "id": "57c3ee95-5898-4515-a0ba-6a1eaeb17094",
   "metadata": {},
   "source": [
    "## 페이지 89-92 연습문제"
   ]
  },
  {
   "cell_type": "code",
   "execution_count": null,
   "id": "4becfbbf-e81f-4dee-a254-38786314811d",
   "metadata": {},
   "outputs": [],
   "source": []
  },
  {
   "cell_type": "code",
   "execution_count": null,
   "id": "81217e84-0a1c-4ceb-9482-41ac882cb0ee",
   "metadata": {},
   "outputs": [],
   "source": []
  },
  {
   "cell_type": "markdown",
   "id": "46b41ff6-b3db-4106-9926-2f1727b7f77e",
   "metadata": {},
   "source": [
    "## Chapter04 연산자"
   ]
  },
  {
   "cell_type": "code",
   "execution_count": 20,
   "id": "b5991932-f78d-41d3-998a-df5516ac91b3",
   "metadata": {},
   "outputs": [
    {
     "name": "stdin",
     "output_type": "stream",
     "text": [
      "교환할 돈은 얼마인가요?(원화): 555\n"
     ]
    },
    {
     "name": "stdout",
     "output_type": "stream",
     "text": [
      "\n",
      " 500원 동전 개수 => 1개\n",
      " 100원 동전 개수 => 0개\n",
      " 50원 동전 개수 => 1개\n",
      " 10원 동전 개수 => 0개\n",
      " 잔돈 => 5원\n"
     ]
    }
   ],
   "source": [
    "#변수 선언\n",
    "m, c500, c100, c50,c10 = 0, 0, 0, 0, 0\n",
    "\n",
    "#메인 코드\n",
    "m = int(input(\"교환할 돈은 얼마인가요?(원화):\"))\n",
    "\n",
    "c500 = m//500\n",
    "m %= 500\n",
    "\n",
    "c100 = m//100\n",
    "m %= 100\n",
    "\n",
    "c50 = m//50\n",
    "m %= 50\n",
    "\n",
    "c10 = m//10\n",
    "m %= 10\n",
    "\n",
    "print(\"\\n 500원 동전 개수 => %d개\" % c500)\n",
    "print(\" 100원 동전 개수 => %d개\" % c100)\n",
    "print(\" 50원 동전 개수 => %d개\" % c50)\n",
    "print(\" 10원 동전 개수 => %d개\" % c10)\n",
    "print(\" 잔돈 => %d원\" % m)"
   ]
  },
  {
   "cell_type": "code",
   "execution_count": 21,
   "id": "09904635-de51-45e8-8b04-d5373591dc7b",
   "metadata": {},
   "outputs": [
    {
     "name": "stdout",
     "output_type": "stream",
     "text": [
      "False\n",
      "nononononononono\n",
      "False\n",
      "a가 100보다 크고 200보다 작은가? False\n",
      "a는 100보다 크거나 200보다 작은가? = 실수인가? True\n",
      "True\n"
     ]
    }
   ],
   "source": [
    "print(10 == 100)\n",
    "\n",
    "if 10 != 100:\n",
    "    print(\"nononononononono\")\n",
    "\n",
    "\n",
    "a = 100\n",
    "print(a>100)  \n",
    "\n",
    "print(\"a가 100보다 크고 200보다 작은가?\",(a>100) and (a<200))  #논리곱\n",
    "print(\"a는 100보다 크거나 200보다 작은가? = 실수인가?\", (a>100) or (a<200))  #논리합\n",
    "print(not(a>100))"
   ]
  },
  {
   "cell_type": "code",
   "execution_count": 22,
   "id": "0886f7bb-69d0-4656-836e-8dff907a99d2",
   "metadata": {},
   "outputs": [
    {
     "name": "stdout",
     "output_type": "stream",
     "text": [
      "비트 논리곱 연산 &\n",
      "2\n",
      "0b1010 0b111\n",
      "0b10\n",
      "2 \n",
      "\n",
      "비트 논리합 연산 |\n",
      "9\n",
      "7\n",
      "0b1111\n",
      "9|7 = 15 \n",
      "\n",
      "비트 부정 ~\n",
      "~9 = -10\n",
      "-0b1010 \n",
      "\n",
      "14\n"
     ]
    }
   ],
   "source": [
    "# 비트 논리곱 연산 &\n",
    "print(\"비트 논리곱 연산 &\")\n",
    "print(10 & 7)\n",
    "print(bin(10), bin(7))\n",
    "0b1010\n",
    "-0b111\n",
    "print(bin(0b0010))\n",
    "print(0b0010, '\\n')\n",
    "\n",
    "# 비트 논리합 연산 |\n",
    "print(\"비트 논리합 연산 |\")\n",
    "print(0b1001) #9\n",
    "print(0b0111) #7\n",
    "print(bin(9|7)) #15 = 0b1111\n",
    "print(\"9|7 =\", 9|7, '\\n') \n",
    "\n",
    "# 비트 부정 ~\n",
    "print(\"비트 부정 ~\")\n",
    "print(\"~9 =\",~9)\n",
    "print(bin(~9), '\\n')\n",
    "\n",
    "#배타적 논리합 ^\n",
    "print(7^9) #14\n",
    "\n",
    "# Masking 기법: 비트 기반 연산"
   ]
  },
  {
   "cell_type": "markdown",
   "id": "652f64a7-3594-445a-9b8c-b1e963afc4a6",
   "metadata": {},
   "source": [
    "### 쉬프트 연산자\n",
    "- `>>`\n",
    "- `<<`\n"
   ]
  },
  {
   "cell_type": "code",
   "execution_count": 23,
   "id": "feb8b834-2887-4d81-9ad1-555120375a99",
   "metadata": {},
   "outputs": [
    {
     "name": "stdout",
     "output_type": "stream",
     "text": [
      "0b10100\n",
      "20\n"
     ]
    }
   ],
   "source": [
    "a = 10\n",
    "print(bin(a << 1))\n",
    "print(a << 1)"
   ]
  },
  {
   "cell_type": "code",
   "execution_count": 24,
   "id": "06226f55-3550-4901-be1d-a6a4b8025cc3",
   "metadata": {},
   "outputs": [
    {
     "name": "stdout",
     "output_type": "stream",
     "text": [
      "0b101\n",
      "5\n"
     ]
    }
   ],
   "source": [
    "print(bin(a>>1))\n",
    "print(a>>1)"
   ]
  },
  {
   "cell_type": "markdown",
   "id": "1be03e73-2262-4597-b600-74128a152de0",
   "metadata": {},
   "source": [
    "### 윤년 계산하기"
   ]
  },
  {
   "cell_type": "code",
   "execution_count": 25,
   "id": "65e74780-023a-4e69-9033-c6d5eff02aef",
   "metadata": {},
   "outputs": [
    {
     "name": "stdin",
     "output_type": "stream",
     "text": [
      "연도를 입력하시오: 2222\n"
     ]
    },
    {
     "name": "stdout",
     "output_type": "stream",
     "text": [
      "2222년은 윤년이 아닙니다.\n"
     ]
    }
   ],
   "source": [
    "year = int(input(\"연도를 입력하시오:\"))\n",
    "\n",
    "if (year % 4 == 0) and (year % 100 != 0) or (year % 400 == 0):\n",
    "    print(\"%d년은 윤년입니다.\" % year)\n",
    "else:\n",
    "    print(\"%d년은 윤년이 아닙니다.\" % year)"
   ]
  },
  {
   "cell_type": "markdown",
   "id": "d1ba757d-0a09-4084-949e-d670d485bfb8",
   "metadata": {},
   "source": [
    "### 93페이지 "
   ]
  },
  {
   "cell_type": "code",
   "execution_count": 6,
   "id": "78112684-2372-459d-9aaa-06734eb86720",
   "metadata": {},
   "outputs": [],
   "source": [
    "import sys"
   ]
  },
  {
   "cell_type": "code",
   "execution_count": 7,
   "id": "6a184946-2a17-49ce-87f3-0175e031385f",
   "metadata": {},
   "outputs": [
    {
     "data": {
      "text/plain": [
       "\u001b[1;31mDocstring:\u001b[0m\n",
       "getsizeof(object [, default]) -> int\n",
       "\n",
       "Return the size of object in bytes.\n",
       "\u001b[1;31mType:\u001b[0m      builtin_function_or_method\n"
      ]
     },
     "metadata": {},
     "output_type": "display_data"
    }
   ],
   "source": [
    "sys.getsizeof?"
   ]
  },
  {
   "cell_type": "code",
   "execution_count": 8,
   "id": "05bba167-dea6-4ad7-92c8-5dd4b7d625dd",
   "metadata": {},
   "outputs": [
    {
     "data": {
      "text/plain": [
       "\u001b[1;31mDocstring:\u001b[0m\n",
       "getsizeof(object [, default]) -> int\n",
       "\n",
       "Return the size of object in bytes.\n",
       "\u001b[1;31mType:\u001b[0m      builtin_function_or_method\n"
      ]
     },
     "metadata": {},
     "output_type": "display_data"
    }
   ],
   "source": [
    "sys.getsizeof??"
   ]
  },
  {
   "cell_type": "code",
   "execution_count": 9,
   "id": "ad1b9ad7-b9e3-4754-9c33-14b358b20f53",
   "metadata": {},
   "outputs": [],
   "source": [
    "# 내장함수 help"
   ]
  },
  {
   "cell_type": "code",
   "execution_count": 10,
   "id": "5c61f57f-cca4-43c4-b9f8-9a06691d46db",
   "metadata": {},
   "outputs": [
    {
     "name": "stdout",
     "output_type": "stream",
     "text": [
      "Help on built-in function getsizeof in module sys:\n",
      "\n",
      "getsizeof(...)\n",
      "    getsizeof(object [, default]) -> int\n",
      "    \n",
      "    Return the size of object in bytes.\n",
      "\n"
     ]
    }
   ],
   "source": [
    "help(sys.getsizeof)"
   ]
  },
  {
   "cell_type": "code",
   "execution_count": null,
   "id": "3da6fc8d-d082-4e8e-9db1-3671548a62fb",
   "metadata": {},
   "outputs": [],
   "source": []
  }
 ],
 "metadata": {
  "kernelspec": {
   "display_name": "Python 3 (ipykernel)",
   "language": "python",
   "name": "python3"
  },
  "language_info": {
   "codemirror_mode": {
    "name": "ipython",
    "version": 3
   },
   "file_extension": ".py",
   "mimetype": "text/x-python",
   "name": "python",
   "nbconvert_exporter": "python",
   "pygments_lexer": "ipython3",
   "version": "3.9.7"
  }
 },
 "nbformat": 4,
 "nbformat_minor": 5
}
