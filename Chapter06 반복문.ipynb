{
 "cells": [
  {
   "cell_type": "markdown",
   "id": "4ef0e22d-177c-41cb-894d-5c8770c7c436",
   "metadata": {},
   "source": [
    "## Chapter 06 반복문\n",
    "* 반복"
   ]
  },
  {
   "cell_type": "code",
   "execution_count": 4,
   "id": "bab8c61a-8529-4fe8-9afb-4ff16cbf18b9",
   "metadata": {
    "collapsed": true,
    "jupyter": {
     "outputs_hidden": true
    },
    "tags": []
   },
   "outputs": [
    {
     "name": "stdout",
     "output_type": "stream",
     "text": [
      "Hi it's time,,, for the 1 time\n",
      "Hi it's time,,, for the 2 time\n",
      "Hi it's time,,, for the 3 time\n"
     ]
    }
   ],
   "source": [
    "for i in range (0, 3, 1):\n",
    "    print(\"Hi it's time,,, for the\", i+1, \"time\")"
   ]
  },
  {
   "cell_type": "markdown",
   "id": "83dbbb57-b061-4eea-9398-03e4d3a06c76",
   "metadata": {},
   "source": [
    "#### for () in range (0, n, k)\n",
    "- 0 ~ (n-1) 까지 공차는 k\n",
    "- range는 하나의 자료형"
   ]
  },
  {
   "cell_type": "markdown",
   "id": "b208c62a-e024-4592-a3c0-3dba5c6f5b9c",
   "metadata": {},
   "source": [
    "#### range 자료형 사용"
   ]
  },
  {
   "cell_type": "code",
   "execution_count": 14,
   "id": "faadc681-10b6-4548-b3b7-7bc75f999200",
   "metadata": {
    "collapsed": true,
    "jupyter": {
     "outputs_hidden": true
    },
    "tags": []
   },
   "outputs": [
    {
     "data": {
      "text/plain": [
       "range"
      ]
     },
     "execution_count": 14,
     "metadata": {},
     "output_type": "execute_result"
    }
   ],
   "source": [
    "type(range(0, 1))"
   ]
  },
  {
   "cell_type": "code",
   "execution_count": 24,
   "id": "245bd647-b0e8-4005-89b3-96897cdb9947",
   "metadata": {
    "collapsed": true,
    "jupyter": {
     "outputs_hidden": true
    },
    "tags": []
   },
   "outputs": [
    {
     "name": "stdout",
     "output_type": "stream",
     "text": [
      "Hi it's time,,, for the 20 time\n",
      "Hi it's time,,, for the 23 time\n",
      "Hi it's time,,, for the 26 time\n",
      "Hi it's time,,, for the 29 time\n"
     ]
    }
   ],
   "source": [
    "for i in range (20, 32, 3):\n",
    "    print(\"Hi it's time,,, for the\", i, \"time\")"
   ]
  },
  {
   "cell_type": "markdown",
   "id": "da145922-b13c-4c7e-9edf-080775b7957e",
   "metadata": {},
   "source": [
    "#### list 자료형 사용"
   ]
  },
  {
   "cell_type": "code",
   "execution_count": 21,
   "id": "f33b826e-b139-4b92-8bb6-12af35a69a46",
   "metadata": {
    "collapsed": true,
    "jupyter": {
     "outputs_hidden": true
    },
    "tags": []
   },
   "outputs": [
    {
     "name": "stdout",
     "output_type": "stream",
     "text": [
      "<class 'list'>\n",
      "<class 'list'>\n"
     ]
    }
   ],
   "source": [
    "print(type([0, 1, 2]))\n",
    "print(type([0.99, 0xFF, 'good']))"
   ]
  },
  {
   "cell_type": "code",
   "execution_count": 26,
   "id": "4dd18bf0-a74e-470b-a2b6-b340f94f5f2e",
   "metadata": {
    "collapsed": true,
    "jupyter": {
     "outputs_hidden": true
    },
    "tags": []
   },
   "outputs": [
    {
     "name": "stdout",
     "output_type": "stream",
     "text": [
      "Hi it's time,,, for the 0 time\n",
      "Hi it's time,,, for the 2 time\n",
      "Hi it's time,,, for the 4 time\n"
     ]
    }
   ],
   "source": [
    "for i in [0,2,4]:\n",
    "    print(\"Hi it's time,,, for the\", i, \"time\")"
   ]
  },
  {
   "cell_type": "code",
   "execution_count": 22,
   "id": "dbf10dd8-2020-41e0-a4f4-5874e5cf2c97",
   "metadata": {
    "collapsed": true,
    "jupyter": {
     "outputs_hidden": true
    },
    "tags": []
   },
   "outputs": [
    {
     "name": "stdout",
     "output_type": "stream",
     "text": [
      "Hi it's time,,, for the first time\n",
      "Hi it's time,,, for the second time\n",
      "Hi it's time,,, for the third time\n"
     ]
    }
   ],
   "source": [
    "for i in ['first', 'second', 'third']:\n",
    "    print(\"Hi it's time,,, for the\", i, \"time\")"
   ]
  },
  {
   "cell_type": "code",
   "execution_count": 33,
   "id": "e78e9aba-2094-4442-bb74-7fdf79c5f519",
   "metadata": {
    "tags": []
   },
   "outputs": [
    {
     "name": "stdout",
     "output_type": "stream",
     "text": [
      "0 : 안녕하세? for 문을 공부 중.^^\n",
      "1 : 안녕하세? for 문을 공부 중.^^\n"
     ]
    }
   ],
   "source": [
    "for i in range(0, 2, 1):\n",
    "    print(\"%d : 안녕하세? for 문을 공부 중.^^\" % i)"
   ]
  },
  {
   "cell_type": "code",
   "execution_count": 32,
   "id": "c6f81620-120b-46e5-b499-8338f4f5880b",
   "metadata": {
    "collapsed": true,
    "jupyter": {
     "outputs_hidden": true
    },
    "tags": []
   },
   "outputs": [
    {
     "name": "stdout",
     "output_type": "stream",
     "text": [
      "0 : 안녕하세? for 문을 공부 중.^^\n",
      "1 : 안녕하세? for 문을 공부 중.^^\n"
     ]
    }
   ],
   "source": [
    "for i in range(0, 2, 1):\n",
    "    print(f\"{i} : 안녕하세? for 문을 공부 중.^^\")"
   ]
  },
  {
   "cell_type": "code",
   "execution_count": 31,
   "id": "99648332-bd86-4cb2-a7b1-465330349278",
   "metadata": {
    "tags": []
   },
   "outputs": [
    {
     "name": "stdout",
     "output_type": "stream",
     "text": [
      "0 : 안녕하세? for 문을 공부 중.^^\n",
      "1 : 안녕하세? for 문을 공부 중.^^\n"
     ]
    }
   ],
   "source": [
    "for i in range(0, 2, 1):\n",
    "    print(\"{0:d} : 안녕하세? for 문을 공부 중.^^\".format(i))"
   ]
  },
  {
   "cell_type": "markdown",
   "id": "e1b13d96-f845-42ec-9f44-9bb95fe27af0",
   "metadata": {},
   "source": [
    "#### 줄 띄어쓰기 : \\n"
   ]
  },
  {
   "cell_type": "code",
   "execution_count": 46,
   "id": "6079c40e-49fc-40be-b949-19c53189b337",
   "metadata": {
    "tags": []
   },
   "outputs": [
    {
     "name": "stdout",
     "output_type": "stream",
     "text": [
      "5/4/3/2/1/0/-1/-2/-3/-4/-5/"
     ]
    }
   ],
   "source": [
    "for i in range(5, -6, -1):\n",
    "    print(\"%d/\" % i, end=\"\")"
   ]
  },
  {
   "cell_type": "code",
   "execution_count": 47,
   "id": "8e7505ae-a0e2-45ff-b008-0b6ebe136f39",
   "metadata": {
    "tags": []
   },
   "outputs": [
    {
     "name": "stdout",
     "output_type": "stream",
     "text": [
      "5/4/3/2/1/0/-1/-2/-3/-4/-5/"
     ]
    }
   ],
   "source": [
    "for i in range(5, -6, -1):\n",
    "    print(\"%d\" % i, end=\"/\")"
   ]
  },
  {
   "cell_type": "code",
   "execution_count": 50,
   "id": "1f9c7f28-003f-4a09-85cf-18924c88d84e",
   "metadata": {
    "tags": []
   },
   "outputs": [
    {
     "name": "stdout",
     "output_type": "stream",
     "text": [
      "3/\n",
      "2/\n",
      "1/\n"
     ]
    }
   ],
   "source": [
    "for i in range(3, 0, -1):\n",
    "    print(\"%d/\" % i, end=\"\\n\")"
   ]
  },
  {
   "cell_type": "code",
   "execution_count": 45,
   "id": "471fb815-51f8-47bd-b929-85d5989a67c0",
   "metadata": {},
   "outputs": [
    {
     "data": {
      "text/plain": [
       "\u001b[1;31mDocstring:\u001b[0m\n",
       "print(value, ..., sep=' ', end='\\n', file=sys.stdout, flush=False)\n",
       "\n",
       "Prints the values to a stream, or to sys.stdout by default.\n",
       "Optional keyword arguments:\n",
       "file:  a file-like object (stream); defaults to the current sys.stdout.\n",
       "sep:   string inserted between values, default a space.\n",
       "end:   string appended after the last value, default a newline.\n",
       "flush: whether to forcibly flush the stream.\n",
       "\u001b[1;31mType:\u001b[0m      builtin_function_or_method\n"
      ]
     },
     "metadata": {},
     "output_type": "display_data"
    }
   ],
   "source": [
    "print?"
   ]
  },
  {
   "cell_type": "code",
   "execution_count": 59,
   "id": "b4ad949a-4562-4fc4-a6c4-5338ca402634",
   "metadata": {},
   "outputs": [
    {
     "name": "stdout",
     "output_type": "stream",
     "text": [
      "1부터 10까지의 합: 55\n"
     ]
    }
   ],
   "source": [
    "hap, i = 0, 0\n",
    "\n",
    "for i in range(1, 11, 1):\n",
    "    hap = hap + i\n",
    "\n",
    "print(\"1부터 10까지의 합: %d\" % hap)"
   ]
  },
  {
   "cell_type": "code",
   "execution_count": 60,
   "id": "8913a61b-d963-495b-8fa9-9c376d02b4b8",
   "metadata": {},
   "outputs": [
    {
     "name": "stdout",
     "output_type": "stream",
     "text": [
      "1부터 10까지의 합: 55\n"
     ]
    }
   ],
   "source": [
    "hap, i = 0, 0\n",
    "\n",
    "for i in range(1, 11, 1):\n",
    "    hap += i  #복합연산자\n",
    "\n",
    "print(\"1부터 10까지의 합: %d\" % hap)"
   ]
  },
  {
   "cell_type": "markdown",
   "id": "a39397cb-9513-4c0d-a07e-585c9b879940",
   "metadata": {},
   "source": [
    "#### 152~154페이지 예제"
   ]
  },
  {
   "cell_type": "code",
   "execution_count": 61,
   "id": "29a260df-5619-45e9-8e5f-89db4b675012",
   "metadata": {},
   "outputs": [
    {
     "name": "stdout",
     "output_type": "stream",
     "text": [
      "500과 1000 사이에 있는 홀수의 합계: 187500\n"
     ]
    }
   ],
   "source": [
    "hap, i = 0, 0\n",
    "\n",
    "for i in range(501, 1001, 2):\n",
    "    hap += i  #복합연산자\n",
    "\n",
    "print(\"500과 1000 사이에 있는 홀수의 합계: %d\" % hap)"
   ]
  },
  {
   "cell_type": "code",
   "execution_count": 64,
   "id": "9daaff0b-cf2e-4fb4-97f6-07afc406e244",
   "metadata": {},
   "outputs": [
    {
     "name": "stdout",
     "output_type": "stream",
     "text": [
      "500과 1000 사이에 있는 짝수의 합계: 187250\n"
     ]
    }
   ],
   "source": [
    "hap, i = 0, 0\n",
    "\n",
    "for i in range(500, 1000, 2):\n",
    "    hap += i  #복합연산자\n",
    "\n",
    "print(\"500과 1000 사이에 있는 짝수의 합계: %d\" % hap)"
   ]
  },
  {
   "cell_type": "code",
   "execution_count": 65,
   "id": "b4a3e354-5811-4a8f-ae60-bc7d3c1d85d6",
   "metadata": {},
   "outputs": [
    {
     "name": "stdout",
     "output_type": "stream",
     "text": [
      "500과 1000 사이에 있는 수의 합계: 374750\n"
     ]
    }
   ],
   "source": [
    "#위 두가지 코딩 점검용\n",
    "hap, i = 0, 0\n",
    "\n",
    "for i in range(500, 1000, 1):\n",
    "    hap += i  #복합연산자\n",
    "\n",
    "print(\"500과 1000 사이에 있는 수의 합계: %d\" % hap)"
   ]
  },
  {
   "cell_type": "code",
   "execution_count": 66,
   "id": "9a3af045-e87e-43da-9510-a962351d6882",
   "metadata": {},
   "outputs": [
    {
     "name": "stdout",
     "output_type": "stream",
     "text": [
      "1부터 입력한 값까지의 합을 구한다.\n"
     ]
    },
    {
     "name": "stdin",
     "output_type": "stream",
     "text": [
      "값을 입력하세요: 10\n"
     ]
    },
    {
     "name": "stdout",
     "output_type": "stream",
     "text": [
      "1부터 10 값까지의 합계: 55\n"
     ]
    }
   ],
   "source": [
    "hap, i = 0, 0\n",
    "\n",
    "print(\"1부터 입력한 값까지의 합을 구한다.\")\n",
    "num = int(input(\"값을 입력하세요:\"))\n",
    "\n",
    "for i in range(1, num + 1, 1):\n",
    "    hap += i\n",
    "    \n",
    "print(\"1부터 %d 값까지의 합계: %d\" % (num,hap))"
   ]
  },
  {
   "cell_type": "code",
   "execution_count": 78,
   "id": "773b5f53-29f2-4be4-9460-00176a6c74df",
   "metadata": {},
   "outputs": [
    {
     "name": "stdout",
     "output_type": "stream",
     "text": [
      "a부터 b까지의 합을 구한다.\n"
     ]
    },
    {
     "name": "stdin",
     "output_type": "stream",
     "text": [
      "a: 1\n",
      "b: 1\n"
     ]
    },
    {
     "name": "stdout",
     "output_type": "stream",
     "text": [
      "1부터 1까지의 합계: 1\n"
     ]
    }
   ],
   "source": [
    "hap, i = 0, 0\n",
    "\n",
    "print(\"a부터 b까지의 합을 구한다.\")\n",
    "a = int(input(\"a:\"))\n",
    "b = int(input(\"b:\"))\n",
    "\n",
    "\n",
    "if a <= b:\n",
    "    for i in range(a, b + 1, 1):\n",
    "        hap += i\n",
    "else:\n",
    "    for i in range(a, b - 1, -1):\n",
    "        hap += i\n",
    "    \n",
    "print(\"%d부터 %d까지의 합계: %d\" % (a,b, hap))"
   ]
  },
  {
   "cell_type": "code",
   "execution_count": 83,
   "id": "5883edf4-5a8f-41cd-bc84-9449dcaa0f6a",
   "metadata": {},
   "outputs": [
    {
     "name": "stdout",
     "output_type": "stream",
     "text": [
      "a부터 b까지의 등차수열의 합을 구한다.\n"
     ]
    },
    {
     "name": "stdin",
     "output_type": "stream",
     "text": [
      "a: 1\n",
      "b: 100\n",
      "d-등차(자연수로 적어주세요): 2\n"
     ]
    },
    {
     "name": "stdout",
     "output_type": "stream",
     "text": [
      "1부터 100까지 등차가 2인 수들의 합: 2500\n"
     ]
    }
   ],
   "source": [
    "hap, i = 0, 0\n",
    "\n",
    "print(\"a부터 b까지의 등차수열의 합을 구한다.\")\n",
    "a = int(input(\"a:\"))\n",
    "b = int(input(\"b:\"))\n",
    "d = int(input(\"d-등차(자연수로 적어주세요):\"))\n",
    "\n",
    "if a <= b:\n",
    "    for i in range(a, b + 1, d):\n",
    "        hap += i\n",
    "else:\n",
    "    for i in range(a, b - 1, -d):\n",
    "        hap += i\n",
    "    \n",
    "\n",
    "print(\"%d부터 %d까지 등차가 %d인 수들의 합: %d\" % (a,b,d,hap))"
   ]
  },
  {
   "cell_type": "markdown",
   "id": "6bce6acd-d500-46f1-a35f-08efbc7f9db8",
   "metadata": {},
   "source": [
    "### 중첩 for"
   ]
  },
  {
   "cell_type": "code",
   "execution_count": 91,
   "id": "debc967d-482c-42f0-9933-33a915be394a",
   "metadata": {
    "collapsed": true,
    "jupyter": {
     "outputs_hidden": true
    },
    "tags": []
   },
   "outputs": [
    {
     "name": "stdout",
     "output_type": "stream",
     "text": [
      "----2단----\n",
      "2 X 1 =  2\n",
      "2 X 2 =  4\n",
      "2 X 3 =  6\n",
      "2 X 4 =  8\n",
      "2 X 5 = 10\n",
      "2 X 6 = 12\n",
      "2 X 7 = 14\n",
      "2 X 8 = 16\n",
      "2 X 9 = 18\n",
      "----3단----\n",
      "3 X 1 =  3\n",
      "3 X 2 =  6\n",
      "3 X 3 =  9\n",
      "3 X 4 = 12\n",
      "3 X 5 = 15\n",
      "3 X 6 = 18\n",
      "3 X 7 = 21\n",
      "3 X 8 = 24\n",
      "3 X 9 = 27\n",
      "----4단----\n",
      "4 X 1 =  4\n",
      "4 X 2 =  8\n",
      "4 X 3 = 12\n",
      "4 X 4 = 16\n",
      "4 X 5 = 20\n",
      "4 X 6 = 24\n",
      "4 X 7 = 28\n",
      "4 X 8 = 32\n",
      "4 X 9 = 36\n",
      "----5단----\n",
      "5 X 1 =  5\n",
      "5 X 2 = 10\n",
      "5 X 3 = 15\n",
      "5 X 4 = 20\n",
      "5 X 5 = 25\n",
      "5 X 6 = 30\n",
      "5 X 7 = 35\n",
      "5 X 8 = 40\n",
      "5 X 9 = 45\n",
      "----6단----\n",
      "6 X 1 =  6\n",
      "6 X 2 = 12\n",
      "6 X 3 = 18\n",
      "6 X 4 = 24\n",
      "6 X 5 = 30\n",
      "6 X 6 = 36\n",
      "6 X 7 = 42\n",
      "6 X 8 = 48\n",
      "6 X 9 = 54\n",
      "----7단----\n",
      "7 X 1 =  7\n",
      "7 X 2 = 14\n",
      "7 X 3 = 21\n",
      "7 X 4 = 28\n",
      "7 X 5 = 35\n",
      "7 X 6 = 42\n",
      "7 X 7 = 49\n",
      "7 X 8 = 56\n",
      "7 X 9 = 63\n",
      "----8단----\n",
      "8 X 1 =  8\n",
      "8 X 2 = 16\n",
      "8 X 3 = 24\n",
      "8 X 4 = 32\n",
      "8 X 5 = 40\n",
      "8 X 6 = 48\n",
      "8 X 7 = 56\n",
      "8 X 8 = 64\n",
      "8 X 9 = 72\n",
      "----9단----\n",
      "9 X 1 =  9\n",
      "9 X 2 = 18\n",
      "9 X 3 = 27\n",
      "9 X 4 = 36\n",
      "9 X 5 = 45\n",
      "9 X 6 = 54\n",
      "9 X 7 = 63\n",
      "9 X 8 = 72\n",
      "9 X 9 = 81\n"
     ]
    }
   ],
   "source": [
    "for i in range(2, 10, 1):\n",
    "    print(f\"----{i}단----\")\n",
    "    for j in range(1, 10, 1):\n",
    "        print(\"%d X %d = %2d\" % (i, j, i * j))"
   ]
  },
  {
   "cell_type": "markdown",
   "id": "efe9e7a0-df81-4efa-b16b-391a3af3ef40",
   "metadata": {
    "tags": []
   },
   "source": [
    "#### 162페이지 한번 해보기"
   ]
  },
  {
   "cell_type": "code",
   "execution_count": 93,
   "id": "ad4391c4-13d7-4c06-834c-a027484c5a37",
   "metadata": {},
   "outputs": [
    {
     "name": "stdout",
     "output_type": "stream",
     "text": [
      "---2단---/---3단---/---4단---/---5단---/---6단---/---7단---/---8단---/---9단---/"
     ]
    }
   ],
   "source": [
    "for i in range(2, 10, 1):\n",
    "        print(f\"---{i}단---\", end=\"/\")\n",
    "\n",
    "    "
   ]
  },
  {
   "cell_type": "markdown",
   "id": "cb342ef0-4f97-442c-8ee0-060a0f2cc1aa",
   "metadata": {},
   "source": [
    "#### 별 그리기"
   ]
  },
  {
   "cell_type": "code",
   "execution_count": 105,
   "id": "bbad6401-fbc0-4a43-b7ef-f2b034cc77ac",
   "metadata": {
    "collapsed": true,
    "jupyter": {
     "outputs_hidden": true
    },
    "tags": []
   },
   "outputs": [
    {
     "name": "stdout",
     "output_type": "stream",
     "text": [
      "*\n",
      "**\n",
      "***\n",
      "****\n"
     ]
    }
   ],
   "source": [
    "for i in range(1, 5, 1):\n",
    "    print(\"*\"*i)"
   ]
  },
  {
   "cell_type": "code",
   "execution_count": 103,
   "id": "2e8283b2-ef30-4510-97d5-74fe2a7a6e87",
   "metadata": {
    "collapsed": true,
    "jupyter": {
     "outputs_hidden": true
    },
    "tags": []
   },
   "outputs": [
    {
     "name": "stdout",
     "output_type": "stream",
     "text": [
      "*\n",
      "**\n",
      "***\n"
     ]
    }
   ],
   "source": [
    "star=\"\"\n",
    "for i in range(1, 4, 1):\n",
    "    star += \"*\"\n",
    "    print(star)"
   ]
  },
  {
   "cell_type": "code",
   "execution_count": 108,
   "id": "f438a212-edd7-4eea-91d3-8914cb4a0a19",
   "metadata": {
    "collapsed": true,
    "jupyter": {
     "outputs_hidden": true
    },
    "tags": []
   },
   "outputs": [
    {
     "name": "stdout",
     "output_type": "stream",
     "text": [
      "*\n",
      "**\n",
      "***\n"
     ]
    }
   ],
   "source": [
    "star=\"\"\n",
    "for i in range(1, 4, 1):\n",
    "    star = \"*\"*i\n",
    "    print(star)"
   ]
  },
  {
   "cell_type": "code",
   "execution_count": 107,
   "id": "a32c9dde-5034-4dcc-8c58-7cbb2a3bbc75",
   "metadata": {
    "collapsed": true,
    "jupyter": {
     "outputs_hidden": true
    },
    "tags": []
   },
   "outputs": [
    {
     "name": "stdout",
     "output_type": "stream",
     "text": [
      "*\n",
      "**\n",
      "***\n"
     ]
    }
   ],
   "source": [
    "for i in range(1, 4, 1):\n",
    "    for j in range(1, i+1, 1):\n",
    "        print(\"*\", end='')\n",
    "    print()"
   ]
  },
  {
   "cell_type": "markdown",
   "id": "bcfd3e0f-32ba-444f-895f-e38b09baa405",
   "metadata": {},
   "source": [
    "### While 문"
   ]
  },
  {
   "cell_type": "code",
   "execution_count": 115,
   "id": "c049d384-d9fb-4a9c-8dfa-fe81fd942528",
   "metadata": {},
   "outputs": [
    {
     "name": "stdout",
     "output_type": "stream",
     "text": [
      "0\n",
      "1\n",
      "2\n",
      "3\n"
     ]
    }
   ],
   "source": [
    "# for 처럼 반복적임\n",
    "i = 0\n",
    "while i <= 3:\n",
    "    print(i)\n",
    "    i += 1 #break 조건을 넣어야 함수 실행이 종료됨 (그렇지 않으면 무한 반복,,)\n"
   ]
  },
  {
   "cell_type": "code",
   "execution_count": 2,
   "id": "44e038f0-a2ed-48ee-b436-62e35eeb7cd6",
   "metadata": {},
   "outputs": [
    {
     "name": "stdout",
     "output_type": "stream",
     "text": [
      "1부터 10까지의 합: 55\n"
     ]
    }
   ],
   "source": [
    "hap, i = 0, 1\n",
    "\n",
    "while i <= 10:\n",
    "    hap += i  #복합연산자\n",
    "    i += 1\n",
    "\n",
    "print(\"1부터 10까지의 합: %d\" % hap)"
   ]
  },
  {
   "cell_type": "code",
   "execution_count": 1,
   "id": "425b2442-9fb2-4cd1-8498-418dd6a2ad2f",
   "metadata": {},
   "outputs": [
    {
     "name": "stdin",
     "output_type": "stream",
     "text": [
      "계산할 첫 번째 수: 100\n",
      "계산할 두 번째 수: 10\n",
      "사용할 연산자: -\n"
     ]
    },
    {
     "name": "stdout",
     "output_type": "stream",
     "text": [
      "100 - 10 = 90\n"
     ]
    },
    {
     "name": "stdin",
     "output_type": "stream",
     "text": [
      "계산할 첫 번째 수: 100\n",
      "계산할 두 번째 수: 30\n",
      "사용할 연산자: 30\n"
     ]
    },
    {
     "name": "stdout",
     "output_type": "stream",
     "text": [
      "연산자를 잘못 입력했음\n"
     ]
    }
   ],
   "source": [
    "ch = \"\"\n",
    "\n",
    "while True:\n",
    "    a = int(input(\"계산할 첫 번째 수:\"))\n",
    "    b = int(input(\"계산할 두 번째 수:\"))\n",
    "    ch = (input(\"사용할 연산자:\"))\n",
    "    \n",
    "    if ch == \"+\" :\n",
    "        print(\"%d + %d = %d\" %(a, b, a+b))\n",
    "    elif ch == \"-\" :\n",
    "        print(\"%d - %d = %d\" %(a, b, a-b))\n",
    "    elif ch == \"*\" :\n",
    "        print(\"%d * %d = %d\" %(a, b, a*b))\n",
    "    elif ch == \"**\" :\n",
    "        print(\"%d ** %d = %d\" %(a, b, a**b))\n",
    "    elif ch == \"/\" :\n",
    "        print(\"%d / %d = %d\" %(a, b, a/b))\n",
    "    elif ch == \"//\" :\n",
    "        print(\"%d // %d = %d\" %(a, b, a//b))\n",
    "    elif ch == \"%\" :\n",
    "        print(\"%d %% %d = %d\" %(a, b, a%b))\n",
    "    else :\n",
    "        print(\"연산자를 잘못 입력했음\")\n",
    "        break\n",
    "    "
   ]
  },
  {
   "cell_type": "markdown",
   "id": "bd5361b0-5ea5-48f4-b834-376667584738",
   "metadata": {},
   "source": [
    "## break"
   ]
  },
  {
   "cell_type": "markdown",
   "id": "f5ebebe0-f424-4f13-aa04-76fc61397ef4",
   "metadata": {},
   "source": [
    "해당 메인 코드 종료\n",
    "\n",
    "### 169페이지 실습\n"
   ]
  },
  {
   "cell_type": "code",
   "execution_count": 5,
   "id": "83768350-1109-4763-b0f7-11a59dae7c50",
   "metadata": {},
   "outputs": [
    {
     "name": "stdin",
     "output_type": "stream",
     "text": [
      "계산할 첫 번째 수: 0\n"
     ]
    },
    {
     "name": "stdout",
     "output_type": "stream",
     "text": [
      "0을 입력하여 반복문을 탈출했습니다.\n"
     ]
    }
   ],
   "source": [
    "ch = \"\"\n",
    "\n",
    "while True:\n",
    "    a = int(input(\"계산할 첫 번째 수:\"))\n",
    "    \n",
    "    if a == 0:\n",
    "        print(\"0을 입력하여 반복문을 탈출했습니다.\")\n",
    "        break\n",
    "    \n",
    "    b = int(input(\"계산할 두 번째 수:\"))\n",
    "    ch = (input(\"사용할 연산자:\"))\n",
    "    \n",
    "    if ch == \"+\" :\n",
    "        print(\"%d + %d = %d\" %(a, b, a+b))\n",
    "    elif ch == \"-\" :\n",
    "        print(\"%d - %d = %d\" %(a, b, a-b))\n",
    "    elif ch == \"*\" :\n",
    "        print(\"%d * %d = %d\" %(a, b, a*b))\n",
    "    elif ch == \"**\" :\n",
    "        print(\"%d ** %d = %d\" %(a, b, a**b))\n",
    "    elif ch == \"/\" :\n",
    "        print(\"%d / %d = %d\" %(a, b, a/b))\n",
    "    elif ch == \"//\" :\n",
    "        print(\"%d // %d = %d\" %(a, b, a//b))\n",
    "    elif ch == \"%\" :\n",
    "        print(\"%d %% %d = %d\" %(a, b, a%b))\n",
    "    else :\n",
    "        print(\"연산자를 잘못 입력하여 반복문을 종료합니다.\")\n",
    "        break\n"
   ]
  },
  {
   "cell_type": "markdown",
   "id": "12a711fd-b9e0-4973-bf09-15741c83383d",
   "metadata": {},
   "source": [
    "- 한줄 주석: #\n",
    "- 블럭(범위, 여러줄): `없음`\n",
    "    - 대체: `\"\"\"/ \"\"\"`"
   ]
  },
  {
   "cell_type": "code",
   "execution_count": 8,
   "id": "f64b8b7e-b528-4bdd-aa1e-6fe6871dead5",
   "metadata": {},
   "outputs": [
    {
     "name": "stdout",
     "output_type": "stream",
     "text": [
      "안녕! 11 1\n",
      "안녕! 12 1\n",
      "안녕! 13 1\n",
      "안녕! 14 1\n",
      "안녕! 11 2\n",
      "안녕! 12 2\n",
      "안녕! 13 2\n",
      "안녕! 14 2\n"
     ]
    }
   ],
   "source": [
    "# 중첩 반복문 break\n",
    "\n",
    "for i in range(1, 3, 1):\n",
    "    for j in range(11, 16, 1):\n",
    "        print(\"안녕!\", j, i)\n",
    "        if j == 14:\n",
    "            break"
   ]
  },
  {
   "cell_type": "code",
   "execution_count": 12,
   "id": "bd8c1cf7-40e8-4573-9298-e34b0e39d6d7",
   "metadata": {},
   "outputs": [
    {
     "name": "stdout",
     "output_type": "stream",
     "text": [
      "1\n",
      "2\n",
      "4\n",
      "5\n",
      "7\n",
      "8\n"
     ]
    }
   ],
   "source": [
    "for i in range(1, 10):\n",
    "    if i % 3 == 0 :\n",
    "        continue\n",
    "    print(i)"
   ]
  },
  {
   "cell_type": "markdown",
   "id": "d9e96e0d-7985-4953-8fa9-7b8c9fdec8fd",
   "metadata": {},
   "source": [
    "### 177 페이지 6번 ,8번"
   ]
  },
  {
   "cell_type": "code",
   "execution_count": 15,
   "id": "7af8228b-2b55-4d5c-8c34-82a73c4d6b7b",
   "metadata": {},
   "outputs": [
    {
     "name": "stdout",
     "output_type": "stream",
     "text": [
      "쿡북~\n",
      "쿡북~\n",
      "쿡북~\n",
      "쿡북~\n",
      "쿡북~\n",
      "쿡북~\n",
      "쿡북~\n",
      "쿡북~\n",
      "쿡북~\n",
      "쿡북~\n",
      "쿡북~\n",
      "쿡북~\n",
      "쿡북~\n",
      "쿡북~\n",
      "쿡북~\n",
      "쿡북~\n",
      "쿡북~\n",
      "쿡북~\n",
      "쿡북~\n",
      "쿡북~\n",
      "쿡북~\n",
      "쿡북~\n",
      "쿡북~\n",
      "쿡북~\n"
     ]
    }
   ],
   "source": [
    "## 6번 그대로\n",
    "\n",
    "for i in range(4):\n",
    "    for j in range(3):\n",
    "        for k in range(2):\n",
    "            print(\"쿡북~\")"
   ]
  },
  {
   "cell_type": "code",
   "execution_count": 1,
   "id": "10c1b1e0-e77e-49f3-818c-48eb0a3a8ed8",
   "metadata": {},
   "outputs": [],
   "source": [
    "## 6번 while 문으로??????\n",
    "i, j, k = 0, 0, 0\n",
    "    "
   ]
  },
  {
   "cell_type": "code",
   "execution_count": 2,
   "id": "9129f724-8db9-4b10-89a2-88a8e2710e21",
   "metadata": {},
   "outputs": [
    {
     "name": "stdout",
     "output_type": "stream",
     "text": [
      "33300\n"
     ]
    }
   ],
   "source": [
    "## 8번 문제\n",
    "\n",
    "hap, n = 0, 1234\n",
    "\n",
    "\"\"\" for 문\n",
    "for n in range(1234, 5678):\n",
    "    if n % 444 == 0:\n",
    "        hap += n\n",
    "\n",
    "print(hap)\n",
    "\"\"\"\n",
    "\n",
    "# while 문으로 변경\n",
    "while  1234 <= n < 5678:\n",
    "    if n % 444 == 0:\n",
    "        hap += n\n",
    "    n += 1\n",
    "        \n",
    "print(hap)"
   ]
  },
  {
   "cell_type": "code",
   "execution_count": null,
   "id": "3cbaf5ba-89c2-461a-b9ef-3970888ca9dd",
   "metadata": {},
   "outputs": [],
   "source": []
  },
  {
   "cell_type": "code",
   "execution_count": null,
   "id": "9d895801-1a6b-42d2-b02e-6c28765c3980",
   "metadata": {},
   "outputs": [],
   "source": []
  }
 ],
 "metadata": {
  "kernelspec": {
   "display_name": "Python 3 (ipykernel)",
   "language": "python",
   "name": "python3"
  },
  "language_info": {
   "codemirror_mode": {
    "name": "ipython",
    "version": 3
   },
   "file_extension": ".py",
   "mimetype": "text/x-python",
   "name": "python",
   "nbconvert_exporter": "python",
   "pygments_lexer": "ipython3",
   "version": "3.9.7"
  }
 },
 "nbformat": 4,
 "nbformat_minor": 5
}
