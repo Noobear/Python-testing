{
 "cells": [
  {
   "cell_type": "markdown",
   "id": "5d275717-c3ec-4def-ad32-edd1a4abf594",
   "metadata": {},
   "source": [
    "## Ch06 연습문제"
   ]
  },
  {
   "cell_type": "markdown",
   "id": "0ebf9d9d-0ab4-4532-809f-57f230bc9212",
   "metadata": {},
   "source": [
    "### 9번"
   ]
  },
  {
   "cell_type": "code",
   "execution_count": 35,
   "id": "2083dcf1-a7a4-42f3-9b0c-f0af7d4fcf38",
   "metadata": {},
   "outputs": [
    {
     "name": "stdout",
     "output_type": "stream",
     "text": [
      "97063\n"
     ]
    }
   ],
   "source": [
    "i, num = 0, 0\n",
    "\n",
    "for i in range(3333, 100000, 1):\n",
    "    num += i\n",
    "    if num > 100000:\n",
    "        num -= i\n",
    "        break\n",
    "    else:\n",
    "        continue\n",
    "\n",
    "print(num)"
   ]
  },
  {
   "cell_type": "markdown",
   "id": "82cd977a-eb77-44e1-a143-d04d4e59e229",
   "metadata": {},
   "source": [
    "### 10번"
   ]
  },
  {
   "cell_type": "code",
   "execution_count": 49,
   "id": "f179e1f4-d02c-479e-9e96-55397b827feb",
   "metadata": {},
   "outputs": [
    {
     "name": "stdin",
     "output_type": "stream",
     "text": [
      "숫자를 입력하세요:  5417\n"
     ]
    },
    {
     "name": "stdout",
     "output_type": "stream",
     "text": [
      "★★★★★★★★★★\n",
      "★★★★★★★★\n",
      "★★\n",
      "★★★★★★★★★★★★★★\n"
     ]
    }
   ],
   "source": [
    "num = input(\"숫자를 입력하세요: \")\n",
    "\n",
    "St = \"\"\n",
    "\n",
    "for i in range(0, len(num)):\n",
    "    k = num[i]\n",
    "    for j in range(0, int(k), 1):\n",
    "        St += \"\\u2605\"*2\n",
    "    print(St)\n",
    "    St = ''"
   ]
  },
  {
   "cell_type": "code",
   "execution_count": null,
   "id": "bd807308-4d7e-432f-943e-583961251cee",
   "metadata": {},
   "outputs": [],
   "source": []
  }
 ],
 "metadata": {
  "kernelspec": {
   "display_name": "Python 3 (ipykernel)",
   "language": "python",
   "name": "python3"
  },
  "language_info": {
   "codemirror_mode": {
    "name": "ipython",
    "version": 3
   },
   "file_extension": ".py",
   "mimetype": "text/x-python",
   "name": "python",
   "nbconvert_exporter": "python",
   "pygments_lexer": "ipython3",
   "version": "3.9.7"
  }
 },
 "nbformat": 4,
 "nbformat_minor": 5
}
