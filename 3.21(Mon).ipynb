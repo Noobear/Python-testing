{
 "cells": [
  {
   "cell_type": "markdown",
   "id": "3533cb3b-d8d6-4ab3-9739-8d890e278298",
   "metadata": {},
   "source": [
    "사칙연산을 수행합니다"
   ]
  },
  {
   "cell_type": "code",
   "execution_count": 11,
   "id": "85849edc-b2a9-4bb6-8332-8a452ce525f2",
   "metadata": {},
   "outputs": [
    {
     "name": "stdout",
     "output_type": "stream",
     "text": [
      "600\n"
     ]
    }
   ],
   "source": [
    "a=100\n",
    "b=500\n",
    "print(a+b)"
   ]
  },
  {
   "cell_type": "code",
   "execution_count": 12,
   "id": "f023e3e9-6efa-4245-8e83-4a1a8c5ae54d",
   "metadata": {},
   "outputs": [
    {
     "name": "stdout",
     "output_type": "stream",
     "text": [
      "600\n"
     ]
    }
   ],
   "source": [
    "sum = a+b\n",
    "print(sum)"
   ]
  },
  {
   "cell_type": "code",
   "execution_count": 38,
   "id": "e89c836e-6807-4f9d-89e5-056475be007f",
   "metadata": {},
   "outputs": [
    {
     "name": "stdout",
     "output_type": "stream",
     "text": [
      "300.0\n"
     ]
    }
   ],
   "source": [
    "average = (a + b)/2\n",
    "print(average)"
   ]
  },
  {
   "cell_type": "code",
   "execution_count": 14,
   "id": "0f323afd-956a-4d5d-be60-4d7ee62a5de3",
   "metadata": {},
   "outputs": [
    {
     "data": {
      "text/plain": [
       "100"
      ]
     },
     "execution_count": 14,
     "metadata": {},
     "output_type": "execute_result"
    }
   ],
   "source": [
    "a"
   ]
  },
  {
   "cell_type": "code",
   "execution_count": 20,
   "id": "cb630986-e9b6-4c24-8bbb-80058692eb24",
   "metadata": {},
   "outputs": [
    {
     "name": "stdout",
     "output_type": "stream",
     "text": [
      "100 500\n"
     ]
    }
   ],
   "source": [
    "print(a, b) #튜플변환 (동시에 여러개 참조)"
   ]
  },
  {
   "cell_type": "code",
   "execution_count": 41,
   "id": "5f146df1-a937-4175-960a-d2429bdbac19",
   "metadata": {},
   "outputs": [
    {
     "name": "stdout",
     "output_type": "stream",
     "text": [
      "600\n",
      "-400\n",
      "0.2\n",
      "\n",
      " 0\n",
      "50000\n"
     ]
    }
   ],
   "source": [
    "print(a + b)\n",
    "print(a - b)\n",
    "print(a/b)\n",
    "print(\"\\n\", a//b)\n",
    "print(a*b)"
   ]
  },
  {
   "cell_type": "code",
   "execution_count": 51,
   "id": "8a20994c-4be7-42b9-8a98-b59114ad1d14",
   "metadata": {},
   "outputs": [
    {
     "name": "stdin",
     "output_type": "stream",
     "text": [
      "첫번째 숫자 a를 입력하시오: 9908\n",
      "두번째 숫자 b를 입력하시오: 6\n"
     ]
    },
    {
     "name": "stdout",
     "output_type": "stream",
     "text": [
      "9908 + 6 = 9914\n",
      "9908 - 6 = 9902\n",
      "9908 / 6 = 1651.3333333333333\n",
      "9908 / 6 의 몫은 1651\n",
      "9908 * 6 = 59448\n"
     ]
    }
   ],
   "source": [
    "a = int(input(\"첫번째 숫자 a를 입력하시오:\"))\n",
    "b = int(input(\"두번째 숫자 b를 입력하시오:\"))\n",
    "\n",
    "print(a, '+', b, '=', a + b)\n",
    "print(a, '-', b, '=', a - b)\n",
    "print(a, '/', b, '=', a/b)\n",
    "print(a, '/', b, \"의 몫은\", a//b)\n",
    "print(a, '*', b, '=', a*b)"
   ]
  },
  {
   "cell_type": "code",
   "execution_count": 35,
   "id": "1c3958bd-3979-49e5-9125-9940152f9c61",
   "metadata": {},
   "outputs": [
    {
     "name": "stdout",
     "output_type": "stream",
     "text": [
      "300.0\n"
     ]
    }
   ],
   "source": [
    "ave = sum/2\n",
    "print(ave)"
   ]
  },
  {
   "cell_type": "code",
   "execution_count": 39,
   "id": "62181990-9f48-4d7b-a1aa-970dcf9db3fe",
   "metadata": {},
   "outputs": [
    {
     "name": "stdout",
     "output_type": "stream",
     "text": [
      "92.5\n",
      "The sum is 185\n"
     ]
    }
   ],
   "source": [
    "math_sc = 96\n",
    "eng_sc = 89\n",
    "result = math_sc + eng_sc\n",
    "ave1 = (math_sc + eng_sc) / 2\n",
    "print(ave1)\n",
    "print(\"The sum is\", result)"
   ]
  },
  {
   "cell_type": "code",
   "execution_count": 40,
   "id": "b05eb14d-4006-443a-930b-98e1089fdce1",
   "metadata": {},
   "outputs": [
    {
     "name": "stdout",
     "output_type": "stream",
     "text": [
      "96 + 89 = 185\n"
     ]
    }
   ],
   "source": [
    "print(math_sc, '+', eng_sc, '=', result)"
   ]
  },
  {
   "cell_type": "markdown",
   "id": "3952359c-3999-4bc3-a1f3-687d36d6e3be",
   "metadata": {},
   "source": []
  },
  {
   "cell_type": "markdown",
   "id": "279d5e3b-fbb2-433c-a6f8-ea12b560d124",
   "metadata": {},
   "source": [
    "아래는 파이썬 첫 교재 60페이지 연습문제 7번 풀이입니다."
   ]
  },
  {
   "cell_type": "code",
   "execution_count": 6,
   "id": "1a94bf5b-5853-4e18-ad52-babba3647082",
   "metadata": {},
   "outputs": [],
   "source": [
    "a = int(input(\"숫자 1 입력:\"))\n",
    "b = int(input(\"숫자 2 입력:\"))\n",
    "c = int(input(\"숫자 3 입력:\"))\n",
    "print(a, '+', b, '+', c, '=', a + b + c)\n",
    "print(a, '*', b, '*', c, '=', a*b*c)\n",
    "print('(', a, '+', b, '+', c, ') / 3 =', (a+b+c)/3)\n",
    "\n",
    "CE = (a, b, c)\n",
    "print(CE[0])\n",
    "\n",
    "print(f\"{a}+{b}+{c}=\", (a+b+c))"
   ]
  }
 ],
 "metadata": {
  "kernelspec": {
   "display_name": "Python 3 (ipykernel)",
   "language": "python",
   "name": "python3"
  },
  "language_info": {
   "codemirror_mode": {
    "name": "ipython",
    "version": 3
   },
   "file_extension": ".py",
   "mimetype": "text/x-python",
   "name": "python",
   "nbconvert_exporter": "python",
   "pygments_lexer": "ipython3",
   "version": "3.9.7"
  }
 },
 "nbformat": 4,
 "nbformat_minor": 5
}
